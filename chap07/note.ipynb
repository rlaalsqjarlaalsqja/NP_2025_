{
 "cells": [
  {
   "cell_type": "markdown",
   "id": "9fe1a0b3",
   "metadata": {},
   "source": [
    "# chap07 모듈\n",
    "\n",
    "학번 : 202110156\n",
    "\n",
    "이름 : 김민범"
   ]
  },
  {
   "cell_type": "markdown",
   "id": "6e52dfc8",
   "metadata": {},
   "source": [
    "### 모듈\n",
    "\n",
    "- 모듈이란?\n",
    "\n",
    "    - 함수, 변수, 클래스들을 모아 놓은 파일 묶음(라이브러리)\n",
    "\n",
    "- 모듈의 종류\n",
    "\n",
    "    - 표준 모듈\n",
    "\n",
    "    - 서드파티 모듈"
   ]
  }
 ],
 "metadata": {
  "kernelspec": {
   "display_name": ".venv (3.13.3)",
   "language": "python",
   "name": "python3"
  },
  "language_info": {
   "name": "python",
   "version": "3.13.3"
  }
 },
 "nbformat": 4,
 "nbformat_minor": 5
}
