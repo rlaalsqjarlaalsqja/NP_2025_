{
 "cells": [
  {
   "cell_type": "markdown",
   "id": "bc5990ed",
   "metadata": {},
   "source": [
    "# 6장 연습문제 \n",
    "\n",
    "학번 : 202110156\n",
    "\n",
    "이름 : 김민범   \n"
   ]
  },
  {
   "cell_type": "markdown",
   "id": "c3e91e79",
   "metadata": {},
   "source": [
    "## 6-3 \n",
    "\n",
    "- Money 클래스를 작성하라. 이 클래스는 저축한 총액을 저장하는 인스턴스 변수가 있다. \n",
    "\n",
    "    deposit(money) 메서드는 인수로 주어진 금액만큼 저축하고 총액을 출력한다,\n",
    "\n",
    "    extract(money) 메소드는 money를 인출하고 총액을 출력한다. get_total() 메소드는 총액을 알려준다.\n",
    "\n",
    "- my_money = Moneybox() 객체를 생성하고 1000원을 저축하고, 200원을 인출한 다음, 총액을 출력하라."
   ]
  },
  {
   "cell_type": "code",
   "execution_count": null,
   "id": "252acc92",
   "metadata": {},
   "outputs": [],
   "source": [
    "class Moneybox:\n",
    "    def __init__(self):\n",
    "        self.total = 0   # 총액 초기화\n",
    "    \n",
    "    def deposit(self, money):\n",
    "        self.total += money\n",
    "        print(\"저축 후 총액:\", self.total)\n",
    "    \n",
    "    def extract(self, money):\n",
    "        if money <= self.total:\n",
    "            self.total -= money\n",
    "            print(\"인출 후 총액:\", self.total)\n",
    "        else:\n",
    "            print(\"잔액 부족! 현재 총액:\", self.total)\n",
    "    \n",
    "    def get_total(self):\n",
    "        return self.total\n",
    "\n",
    "\n",
    "# 실행 예시\n",
    "my_money = Moneybox()\n",
    "my_money.deposit(1000)     # 저축 후 총액: 1000\n",
    "my_money.extract(200)      # 인출 후 총액: 800\n",
    "print(\"최종 총액:\", my_money.get_total())  # 최종 총액: 800"
   ]
  },
  {
   "cell_type": "markdown",
   "id": "005ae6d0",
   "metadata": {},
   "source": [
    "## 6-4\n",
    "\n",
    "- Password_manager 클래스를 작성하라. 이 클래스는 사용자의 모든 과거 패스워드를 저장하는 old_passwords 리스트 변수를 갖는다.\n",
    "\n",
    "    리스트의 마지막 요소는 현재 패스워드이다. 현재 패스워드를 알려주는 get_password와 새로운 패스워드를 설정하는 set_password 메소드를 정의하라.\n",
    "\n",
    "    set_password는 과거에 사용하지 않은 새로운 패스워드를 설정할때만 유효하다.\n",
    "\n",
    "    문자열을 입력받아 현재 패스워드와 같은지 True 또는 False를 반환하는 is_correct 메소드를 정의하라."
   ]
  },
  {
   "cell_type": "markdown",
   "id": "62b7bbc4",
   "metadata": {},
   "source": [
    "## 6-5\n",
    "\n",
    "- Articles 클래스를 작성하라. 이 클래스는 각각 제품의 이름, 재고 수량, 단가를 나타내는 name, stock, price 인스턴스 변수를 가지고 있다. \n",
    "\n",
    "    offer_price() 메소드는 구매 수량을 인수로 전달받아 총 가격을 반환한다.\n",
    "\n",
    "    구매 수량이 1~10개 이하이면 정상 가격을 반환하고, 11~50개이면 5% 할인된 가격을 반환한다. 또 51개 이상이면 10% 할인해 준다. \n",
    "\n",
    "    purchase() 메소드는 구매 수량을 인수로 전달받아 재고 수량을 구매 수량만큼 감소한다.\n",
    "\n",
    "- 이 클래스를 이용하여 단가 1000원인 \" mask \"를 10,000장으로 설정하고, 40장 구매 가격과 구매 후 재고를 출력하라."
   ]
  },
  {
   "cell_type": "code",
   "execution_count": 1,
   "id": "32dba3b9",
   "metadata": {},
   "outputs": [
    {
     "name": "stdout",
     "output_type": "stream",
     "text": [
      "40장 구매 가격: 38000\n",
      "구매 후 재고: 9960\n"
     ]
    }
   ],
   "source": [
    "class Articles:\n",
    "    def __init__(self, name, stock, price):\n",
    "        self.name = name\n",
    "        self.stock = stock\n",
    "        self.price = price\n",
    "\n",
    "    def offer_price(self, count):\n",
    "        total = self.price * count\n",
    "\n",
    "        # 할인 조건\n",
    "        if count > 50:           # 51개 이상\n",
    "            total *= 0.9\n",
    "        elif count > 10:         # 11~50개\n",
    "            total *= 0.95\n",
    "\n",
    "        return int(total)\n",
    "\n",
    "    def purchase(self, count):\n",
    "        self.stock -= count   # 재고 차감\n",
    "\n",
    "\n",
    "# 사용 예시\n",
    "item = Articles(\"mask\", 10000, 1000)\n",
    "\n",
    "price = item.offer_price(40)\n",
    "item.purchase(40)\n",
    "\n",
    "print(\"40장 구매 가격:\", price)   # 38000\n",
    "print(\"구매 후 재고:\", item.stock) # 9960\n"
   ]
  },
  {
   "cell_type": "markdown",
   "id": "abfc62a4",
   "metadata": {},
   "source": [
    "## 6-6\n",
    "\n",
    "- 다음 프로그램을 실행했을 때 아래 내용이 출력되도록 클래스를 정의하라. \n",
    "    \n",
    "    학번(id) 앞 4자리가 2018보다 작으면 grade() 메소드에 의해 \"3학년입니다\" 가 출력되고\n",
    "\n",
    "    아니면 \" 3학년입니다\" 가 출력된다.\n",
    "\n",
    "    ```python\n",
    "\n",
    "    man = Student(name = '홍길동', id = 20150001, dept = '로봇공학과')\n",
    "    print(\"이름:{}, 학번:{}, 학과:{}\".format(man.name, man.id, man.dept))\n",
    "    man.grade()\n",
    "\n",
    "    ```\n",
    "\n",
    "[출력내용]\n",
    "이름 : 홍길동, 학번:20150001, 학과 : 로봇공학과\n",
    "3학년입니다.\n",
    " "
   ]
  },
  {
   "cell_type": "code",
   "execution_count": null,
   "id": "f6a43565",
   "metadata": {},
   "outputs": [],
   "source": []
  },
  {
   "cell_type": "markdown",
   "id": "2c9bffbb",
   "metadata": {},
   "source": [
    "## 6-7\n",
    "\n",
    "- 다음 Person 클래스를 상속 받는 Employee 클래스를 정의하라.\n",
    "\n",
    "    Employee 클래스에 employeeID 속성을 추가하고 getID() 메소드를 정의하라.\n",
    "\n",
    "    getID() 메소드는 employeeID를 반환하는 메소드이다.\n",
    "\n",
    "    Employee 클래스를 이용하여 Employee(\"동양\", 65, 2019)로 생성된 객체의 이름, 나이, ID를 출력하라.\n",
    "\n",
    "\n",
    "    ```python\n",
    "\n",
    "    class Person:\n",
    "        def __init__(self, name, age):\n",
    "            self.name = name\n",
    "            self.age = age\n",
    "\n",
    "        def getName(self):\n",
    "            print(self.name)\n",
    "\n",
    "        def getAge(self):\n",
    "            print(self.age)\n",
    "\n",
    "    ```"
   ]
  },
  {
   "cell_type": "code",
   "execution_count": 2,
   "id": "809d3af2",
   "metadata": {},
   "outputs": [
    {
     "name": "stdout",
     "output_type": "stream",
     "text": [
      "동양\n",
      "65\n",
      "2019\n"
     ]
    }
   ],
   "source": [
    "class Person:\n",
    "    def __init__(self, name, age):\n",
    "        self.name = name\n",
    "        self.age = age\n",
    "\n",
    "    def getName(self):\n",
    "        print(self.name)\n",
    "\n",
    "    def getAge(self):\n",
    "        print(self.age)\n",
    "\n",
    "\n",
    "class Employee(Person):\n",
    "    def __init__(self, name, age, employeeID):\n",
    "        super().__init__(name, age)   # Person 클래스 초기화\n",
    "        self.employeeID = employeeID  # 새로운 속성 추가\n",
    "\n",
    "    def getID(self):\n",
    "        print(self.employeeID)\n",
    "\n",
    "\n",
    "# 실행 예시\n",
    "e1 = Employee(\"동양\", 65, 2019)\n",
    "e1.getName()   # 동양\n",
    "e1.getAge()    # 65\n",
    "e1.getID()     # 2019"
   ]
  },
  {
   "cell_type": "markdown",
   "id": "86544201",
   "metadata": {},
   "source": [
    "## 6-9\n",
    "\n",
    "- 파이썬 언어에서 다음에 대해 조사하고 예제코드를 실행하여 보라\n",
    "\n",
    "    - 파이썬으로 싱글톤 패턴을 구현하는 방법들\n",
    "\n",
    "    - 파이썬에서 멀티쓰레드 구현하는 기법\n",
    "\n",
    "    - 멀티쓰레드에서 공유 변수에 대한 Critical Section을 보호하는 기법"
   ]
  },
  {
   "cell_type": "markdown",
   "id": "73b4f114",
   "metadata": {},
   "source": [
    "1. new() 메서드를 오버라이드하거나, call() 메서드를 사용하거나, 데코레이터를 활용하는 방식"
   ]
  },
  {
   "cell_type": "code",
   "execution_count": 3,
   "id": "d44f42ce",
   "metadata": {},
   "outputs": [
    {
     "name": "stdout",
     "output_type": "stream",
     "text": [
      "True\n"
     ]
    }
   ],
   "source": [
    "#new()\n",
    "\n",
    "class SingletonNew:\n",
    "    _instance = None\n",
    "\n",
    "    def __new__(cls, *args, **kwargs):\n",
    "        if cls._instance is None:              # 최초 1번만 생성\n",
    "            cls._instance = super().__new__(cls)\n",
    "        return cls._instance\n",
    "\n",
    "# 테스트\n",
    "a = SingletonNew()\n",
    "b = SingletonNew()\n",
    "print(a is b)  # True → 두 객체는 같은 인스턴스"
   ]
  },
  {
   "cell_type": "code",
   "execution_count": null,
   "id": "a1fa1f8d",
   "metadata": {},
   "outputs": [],
   "source": [
    "#__call__()\n",
    "\n",
    "class SingletonMeta(type):\n",
    "    _instances = {}\n",
    "\n",
    "    def __call__(cls, *args, **kwargs):   # 객체 생성 시 호출\n",
    "        if cls not in cls._instances:\n",
    "            cls._instances[cls] = super().__call__(*args, **kwargs)\n",
    "        return cls._instances[cls]\n",
    "\n",
    "class SingletonCall(metaclass=SingletonMeta):\n",
    "    pass\n",
    "\n",
    "# 테스트\n",
    "x = SingletonCall()\n",
    "y = SingletonCall()\n",
    "print(x is y)  # True"
   ]
  },
  {
   "cell_type": "code",
   "execution_count": 5,
   "id": "97b7b288",
   "metadata": {},
   "outputs": [
    {
     "name": "stdout",
     "output_type": "stream",
     "text": [
      "True\n"
     ]
    }
   ],
   "source": [
    "# 데코레이터 활용\n",
    "\n",
    "def singleton(cls):\n",
    "    instances = {}\n",
    "\n",
    "    def get_instance(*args, **kwargs):\n",
    "        if cls not in instances:\n",
    "            instances[cls] = cls(*args, **kwargs)\n",
    "        return instances[cls]\n",
    "\n",
    "    return get_instance\n",
    "\n",
    "@singleton\n",
    "class SingletonDeco:\n",
    "    pass\n",
    "\n",
    "# 테스트\n",
    "m = SingletonDeco()\n",
    "n = SingletonDeco()\n",
    "print(m is n)  # True\n"
   ]
  },
  {
   "cell_type": "markdown",
   "id": "a6966abc",
   "metadata": {},
   "source": [
    "2. threading 모듈 사용"
   ]
  },
  {
   "cell_type": "code",
   "execution_count": 6,
   "id": "5bbf48a2",
   "metadata": {},
   "outputs": [
    {
     "name": "stdout",
     "output_type": "stream",
     "text": [
      "스레드-1 작업 중... 0\n",
      "스레드-2 작업 중... 0\n",
      "스레드-1 작업 중... 1\n",
      "스레드-2 작업 중... 1\n",
      "스레드-1 작업 중... 2\n",
      "스레드-2 작업 중... 2\n",
      "모든 작업 종료\n"
     ]
    }
   ],
   "source": [
    "import threading\n",
    "import time\n",
    "\n",
    "def worker(name):\n",
    "    for i in range(3):\n",
    "        print(f\"{name} 작업 중... {i}\")\n",
    "        time.sleep(1)\n",
    "\n",
    "# 쓰레드 2개 생성\n",
    "t1 = threading.Thread(target=worker, args=(\"스레드-1\",))\n",
    "t2 = threading.Thread(target=worker, args=(\"스레드-2\",))\n",
    "\n",
    "# 시작\n",
    "t1.start()\n",
    "t2.start()\n",
    "\n",
    "# 메인 쓰레드가 기다리도록 join()\n",
    "t1.join()\n",
    "t2.join()\n",
    "\n",
    "print(\"모든 작업 종료\")"
   ]
  },
  {
   "cell_type": "markdown",
   "id": "3a1152fd",
   "metadata": {},
   "source": [
    "3. 뮤텍스(Lock,Rlock)를 사용"
   ]
  },
  {
   "cell_type": "code",
   "execution_count": 7,
   "id": "1db23e77",
   "metadata": {},
   "outputs": [
    {
     "name": "stdout",
     "output_type": "stream",
     "text": [
      "최종 counter (뮤텍스 없음): 200000\n",
      "최종 counter (뮤텍스 사용): 200000\n"
     ]
    }
   ],
   "source": [
    "import threading\n",
    "\n",
    "# 1) 뮤텍스 없이\n",
    "counter = 0\n",
    "\n",
    "def worker_no_lock():\n",
    "    global counter\n",
    "    for _ in range(100000):\n",
    "        counter += 1  # 임계구역 (보호 없음)\n",
    "\n",
    "threads = [threading.Thread(target=worker_no_lock) for _ in range(2)]\n",
    "for t in threads: t.start()\n",
    "for t in threads: t.join()\n",
    "\n",
    "print(\"최종 counter (뮤텍스 없음):\", counter)  # 기대값 200000, 하지만 더 작을 수 있음\n",
    "\n",
    "# 2) 뮤텍스 사용\n",
    "counter = 0\n",
    "lock = threading.Lock()\n",
    "\n",
    "def worker_with_lock():\n",
    "    global counter\n",
    "    for _ in range(100000):\n",
    "        with lock:       # 임계구역 보호\n",
    "            counter += 1\n",
    "\n",
    "threads = [threading.Thread(target=worker_with_lock) for _ in range(2)]\n",
    "for t in threads: t.start()\n",
    "for t in threads: t.join()\n",
    "\n",
    "print(\"최종 counter (뮤텍스 사용):\", counter)  # 항상 200000\n"
   ]
  }
 ],
 "metadata": {
  "kernelspec": {
   "display_name": ".venv (3.13.3)",
   "language": "python",
   "name": "python3"
  },
  "language_info": {
   "codemirror_mode": {
    "name": "ipython",
    "version": 3
   },
   "file_extension": ".py",
   "mimetype": "text/x-python",
   "name": "python",
   "nbconvert_exporter": "python",
   "pygments_lexer": "ipython3",
   "version": "3.13.3"
  }
 },
 "nbformat": 4,
 "nbformat_minor": 5
}
