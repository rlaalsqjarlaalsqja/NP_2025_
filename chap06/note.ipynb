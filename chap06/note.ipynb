{
 "cells": [
  {
   "cell_type": "markdown",
   "id": "aaa872d7",
   "metadata": {},
   "source": [
    "# 6장 파이썬의 클래스\n",
    "\n",
    "날짜 : 2025.09.29"
   ]
  },
  {
   "cell_type": "markdown",
   "id": "95bddd81",
   "metadata": {},
   "source": [
    "## 객체지향 프로그래밍\n",
    "\n",
    "- 객체지향 프로그램은 객체(object)의 속성(변수)과 동작(함수)을 나타내는 클래스를 정의하고, 이로부터 객체를 생성(인스턴스화: instantiation)하여 작성한 프로그램\n",
    "\n",
    "- 클래스와 객체는 풀빵들과 풀빵의 관계\n",
    "\n",
    "- 클래스는 다른 클래스로부터 상속받을 수 있다. 상속 클래스는 부모 클래스가 갖지않는 속성과 메소드를 가질 수 있다.\n",
    "\n",
    "- 객체는 클래스의 속성과 메소드를 갖는다\n",
    "\n",
    "- 객체는 일반 변수처럼 사용된다. 함수의 인자로 사용되고, 함수에서 객체를 반환 할 수도 있다. 튜플이나 딕셔너리의 요소로 사용될 수 있다.\n",
    "\n"
   ]
  },
  {
   "cell_type": "markdown",
   "id": "55dc6487",
   "metadata": {},
   "source": [
    "## 클래스 정의와 객체 생성\n",
    "\n",
    "- 클래스의 정의 \n",
    "\n",
    "class 클래스이름(부모 클래스) : <- class 키워드로 정의\n",
    "    \n",
    "    클래스 몸체\n",
    "\n",
    "\n",
    " 1. 클래스는 class 키워드로 정의도니다. 부모 클래스는 없으면 생략\n",
    " 2. 클래스 몸체는 변수와 메소드로 구성"
   ]
  },
  {
   "cell_type": "markdown",
   "id": "d2f9665f",
   "metadata": {},
   "source": [
    "- 클래스 객체\n",
    "\n",
    "    - 클래스를 인스턴스화(instantiation)하여 만들어진 것을 객체(object)라 한다\n",
    "\n",
    "    - 객체는 클래스와 변수와 메소드에 접근할 수 있다."
   ]
  },
  {
   "cell_type": "markdown",
   "id": "441f530f",
   "metadata": {},
   "source": [
    "```python\n",
    "\n",
    ">>> class Test:\n",
    "...     name = \"홍길동\"\n",
    "...\n",
    ">>> t = Test()  \n",
    ">>> print(t.name)\n",
    "홍길동\n",
    "\n",
    "```"
   ]
  },
  {
   "cell_type": "markdown",
   "id": "7493ef84",
   "metadata": {},
   "source": [
    "- 클래스의 예"
   ]
  },
  {
   "cell_type": "code",
   "execution_count": 13,
   "id": "28782ed4",
   "metadata": {},
   "outputs": [],
   "source": [
    "class Car:\n",
    "    def __init__(self, color, speed):\n",
    "        self.color = color\n",
    "        self.speed = speed\n",
    "        \n",
    "    def speedUp(self, v):\n",
    "        self.speed = self.speed + v\n",
    "        return self.speed\n",
    "    \n",
    "    def speedDown(self, v):\n",
    "        self.speed = self.speed - v\n",
    "        return self.speed"
   ]
  },
  {
   "cell_type": "markdown",
   "id": "63c461ef",
   "metadata": {},
   "source": [
    "- self.variable로 정의된 변수(인스턴스 변수)는 클래스 전체에서 요효하다. 클래스 속성은 인스턴스 변수로 정의한다.\n",
    "- self.가 없는 변수는 메소드 내에서만 유효한 지역변수이다"
   ]
  },
  {
   "cell_type": "markdown",
   "id": "f0673fae",
   "metadata": {},
   "source": [
    "- 초기화 함수(__init__())\n",
    "    - 객체를 생성할 때 자동실행 메소드\n",
    "    - 인스턴스 변수(self.var)를 초기화할 때 사용(초기화 필요가 없으면 생략 가능)\n",
    "    - 인스턴스 변수는 클래스 내부의 모든 메소드에서 사용할 수 있다."
   ]
  },
  {
   "cell_type": "code",
   "execution_count": 10,
   "id": "816c52be",
   "metadata": {},
   "outputs": [],
   "source": [
    "class Car:\n",
    "    def __init__(self, color, speed):\n",
    "        self.color = color\n",
    "        self.speed = speed"
   ]
  },
  {
   "cell_type": "markdown",
   "id": "c18f2208",
   "metadata": {},
   "source": [
    "- Car 클래스 객체를 이용한 프로그램\n",
    "    - Car 클래스 객체 mycar 생성\n",
    "    - Car 클래스의 color와 speed 속성 접근\n",
    "    - Car 클래스의 speedup()과 speeddown() 메소드 호출"
   ]
  },
  {
   "cell_type": "code",
   "execution_count": 14,
   "id": "cf8a44b2",
   "metadata": {},
   "outputs": [
    {
     "name": "stdout",
     "output_type": "stream",
     "text": [
      "색상: Black , 속도: 60\n",
      "색상: Red\n",
      "속도: 70\n",
      "속도: 50\n"
     ]
    }
   ],
   "source": [
    "mycar = Car(\"Black\", 60)\n",
    "print('색상:', mycar.color, ', 속도:', mycar.speed)\n",
    "mycar.color = \"Red\"\n",
    "print('색상:', mycar.color)\n",
    "mycar.speedUp(10)\n",
    "print('속도:', mycar.speed)\n",
    "mycar.speedDown(20)\n",
    "print('속도:', mycar.speed)"
   ]
  },
  {
   "cell_type": "markdown",
   "id": "eb0787ff",
   "metadata": {},
   "source": [
    "- 클래스 속성: 클래스 변수와 인스턴스 변수"
   ]
  },
  {
   "cell_type": "code",
   "execution_count": 15,
   "id": "d6a31fcf",
   "metadata": {},
   "outputs": [
    {
     "name": "stdout",
     "output_type": "stream",
     "text": [
      "(3, 0)\n",
      "2\n",
      "3\n",
      "1 0\n"
     ]
    }
   ],
   "source": [
    "class Calc:\n",
    "    count = 0\n",
    "    def add(self, a=0, b=0):\n",
    "        self.a = a\n",
    "        self.b = b\n",
    "        self.count += 1\n",
    "        return self.a + self.b\n",
    "    \n",
    "    def minus(self, a, b):\n",
    "        if a == 0 or b == 0:\n",
    "            return a - b, self.count\n",
    "        else:\n",
    "            return a - b\n",
    "\n",
    "obj = Calc()\n",
    "print(obj.minus(3,0))\n",
    "print(obj.minus(3,1))\n",
    "print(obj.add(1,2))\n",
    "print(obj.count, Calc.count)"
   ]
  },
  {
   "cell_type": "markdown",
   "id": "d68d0c70",
   "metadata": {},
   "source": [
    "- 클래스 상속\n",
    "\n",
    "    - 상속은 기존에 만들어진 클래스로부터속성과 메소드를 이어받고 자신이 필요한 기능을 추가하는 기법이다\n",
    "\n",
    "    - 상위 클래스 = 부모 클래스 또는 super class\n",
    "\n",
    "    - 하위 클래스 = 자식 클래스 또는 sub class\n",
    "\n",
    "    - 상속의 구현\n",
    "\n",
    "        class subclass(superclass):\n",
    "\n",
    "    - 파이썬 프로그램의 모듈은 대부분 클래스로 구현되어 있고 자신의 프로그램에서는 모듈에 포함된 부모 클래스를 상속받아 구현된다\n",
    "\n",
    "        class Handler(serversocket.BaseRequestHandler):\n",
    "\n",
    "    \n",
    "            - seversocket 모듈의 BaseRequestHandler 클래스를 상속받아 Handler 클래스 구현"
   ]
  },
  {
   "cell_type": "markdown",
   "id": "dafb35be",
   "metadata": {},
   "source": [
    " - 클래스 상속 예제\n",
    "\n",
    "    - People 클래스에서 상속 받아 Teacher 클래스 정의\n",
    "\n",
    "    - 부모 클래스 호출 : super().method(args)/People.method(self, args)"
   ]
  },
  {
   "cell_type": "code",
   "execution_count": 31,
   "id": "7773bdb1",
   "metadata": {},
   "outputs": [],
   "source": [
    "class People:\n",
    "    def __init__(self, age=0, name=None):\n",
    "        self.__age = age\n",
    "        self.__name = name\n",
    "        \n",
    "    def introMe(self):\n",
    "        print(\"Name:\", self.__name, \", Age:\", str(self.__age))\n",
    "        \n",
    "class Teacher(People):\n",
    "    def __init__(self, age=0, name=None, school=None):\n",
    "        super().__init__(age, name)\n",
    "        self.school = school\n",
    "        \n",
    "    def showSchool(self):\n",
    "        print(\"My School\", self.school)"
   ]
  },
  {
   "cell_type": "markdown",
   "id": "c816b632",
   "metadata": {},
   "source": [
    "- 클래스 상속 예제\n",
    "\n",
    "    - 상속 메소드 호출\n"
   ]
  },
  {
   "cell_type": "code",
   "execution_count": 18,
   "id": "5d9a8057",
   "metadata": {},
   "outputs": [
    {
     "name": "stdout",
     "output_type": "stream",
     "text": [
      "Name: Lee , Age: 29\n"
     ]
    }
   ],
   "source": [
    "p1 = People(29, \"Lee\")\n",
    "p1.introMe()"
   ]
  },
  {
   "cell_type": "code",
   "execution_count": 32,
   "id": "e3407bbc",
   "metadata": {},
   "outputs": [
    {
     "name": "stdout",
     "output_type": "stream",
     "text": [
      "Name: Kim , Age: 48\n",
      "My School HighSchool\n"
     ]
    }
   ],
   "source": [
    "t1 = Teacher(48, \"Kim\", \"HighSchool\")\n",
    "t1.introMe()\n",
    "\n",
    "t1.showSchool()"
   ]
  },
  {
   "cell_type": "markdown",
   "id": "80680976",
   "metadata": {},
   "source": [
    "- 메소드 오버라이딩\n",
    "\n",
    "    - 자식클래스에서 부모클래스의 메소드를 수정해 다시 정의하는 것\n",
    "\n",
    "    - Student 클래스에서 People 클래스의 introMe() 메소드를 재정의하여 사용"
   ]
  },
  {
   "cell_type": "code",
   "execution_count": 33,
   "id": "a1ed3dbe",
   "metadata": {},
   "outputs": [],
   "source": [
    "class People:\n",
    "    def __init__(self, age=0, name=None):\n",
    "        self.__age = age\n",
    "        self.__name = name\n",
    "    def introMe(self):\n",
    "        print(\"Name:\", self.__name, \"age:\", str(self.__age))\n",
    "        \n",
    "class Student(People):\n",
    "    def __init__(self, age=0, name=None, grade=None):\n",
    "        super().__init__(age, name)\n",
    "        self.__grade = grade\n",
    "    def introMe(self):\n",
    "        super().introMe()\n",
    "        print(\"Grade:\", self.__grade)"
   ]
  },
  {
   "cell_type": "code",
   "execution_count": 34,
   "id": "f0115dd7",
   "metadata": {},
   "outputs": [
    {
     "name": "stdout",
     "output_type": "stream",
     "text": [
      "Name: Lee age: 29\n",
      "Name: Park age: 17\n",
      "Grade: 2\n"
     ]
    }
   ],
   "source": [
    "p1 = People(29, \"Lee\")\n",
    "p1.introMe()\n",
    "\n",
    "s1 = Student(17, \"Park\", 2)\n",
    "s1.introMe()\n"
   ]
  },
  {
   "cell_type": "markdown",
   "id": "07e43aec",
   "metadata": {},
   "source": [
    "- 전달된 인자에 따라 함수 또는 연산의 기능이 달라지는 기능\n",
    "\n",
    "    - 2+3 -> 5\n",
    "\n",
    "    - '2'+'3' -> '23'\n",
    "\n",
    "    - 'Hello' + 'World' -> 'Hello World'"
   ]
  },
  {
   "cell_type": "code",
   "execution_count": 38,
   "id": "60959c3c",
   "metadata": {},
   "outputs": [
    {
     "name": "stdout",
     "output_type": "stream",
     "text": [
      "안녕하세요\n",
      "Hello\n"
     ]
    }
   ],
   "source": [
    "class Korean(object):\n",
    "    def greeting(self):\n",
    "        print(\"안녕하세요\")\n",
    "class American(object):\n",
    "    def greeting(self):\n",
    "        print(\"Hello\")\n",
    "        \n",
    "def sayhello(people):\n",
    "        people.greeting()\n",
    "        \n",
    "Kim = Korean()\n",
    "John = American()\n",
    "sayhello(Kim)\n",
    "sayhello(John)"
   ]
  },
  {
   "cell_type": "markdown",
   "id": "487b9d53",
   "metadata": {},
   "source": [
    "#### 가시성\n",
    "\n",
    "- 파이썬은 C++/자바와 달리 접근 제어자(public, protected, private)가 엄격하게 적용되지 않습니다. \n",
    "\n",
    "    하지만 관례적으로 다음과 같이 가기성을 표현\n",
    "\n",
    "    - public: 이름 앞에 밑줄없음 (예: value)\n",
    "\n",
    "        -> 어디서나 접근 가능\n",
    "\n",
    "    - protected: 이름 앞에 밑줄 1개 (예: _value)\n",
    "\n",
    "        -> 하위 클래스에서 접근 권장, 외부에서 직접 접근은 권장하지않음\n",
    "\n",
    "    - private: 이름 앞에 밑줄 2개 (예:__value)\n",
    "\n",
    "        -> 클래스 내부에서만 접근, 이름이 맹글링(name mangling)되어 외부/하위 클래스에서 직접 접근 어렵게 만듦"
   ]
  },
  {
   "cell_type": "code",
   "execution_count": 1,
   "id": "2ab529df",
   "metadata": {},
   "outputs": [],
   "source": [
    "# 가시성 예제\n",
    "\n",
    "class Base:\n",
    "    def __init__(self):\n",
    "        self.public_value = 1\n",
    "        self._protected_value = 2\n",
    "        self.__private_value = 3\n",
    "        \n",
    "class child(Base):\n",
    "    def show(self):\n",
    "        print(self.public_value)\n",
    "        print(self._protected_value)\n",
    "        # print(self.__private_value)\n",
    "        \n",
    "class Other:\n",
    "    def show(self, obj: Base):\n",
    "        print(obj.public_value)\n",
    "        print(obj._protected_value)\n",
    "        #print(obj.__private_value)"
   ]
  },
  {
   "cell_type": "markdown",
   "id": "a99b0897",
   "metadata": {},
   "source": [
    "### 추상 함수\n",
    "\n",
    "- 파이썬에서 추상 메서드(abstract methods)\n",
    "\n",
    "    - abc 모듈의 ABC(Abstract Base Class)와 @abstractmethod 데코데이터 (Java 의 annotation)를 사용해 정의\n",
    "\n",
    "    - 추상 메서드는 반드시 하위 클래스에서 구현해야 하며, 직접 인스턴스화할 수 없음\n",
    "    "
   ]
  },
  {
   "cell_type": "code",
   "execution_count": 2,
   "id": "c1ae3ad6",
   "metadata": {},
   "outputs": [
    {
     "name": "stdout",
     "output_type": "stream",
     "text": [
      "멍멍\n"
     ]
    }
   ],
   "source": [
    "# 추상함수 예제\n",
    "\n",
    "from abc import ABC, abstractmethod\n",
    "\n",
    "class Animal(ABC):\n",
    "    @abstractmethod\n",
    "    def sound(self):\n",
    "        pass\n",
    "    \n",
    "class Dog(Animal):\n",
    "    def sound(self):\n",
    "        return \"멍멍\"\n",
    "    \n",
    "    \n",
    "# a = Animal() # 에러: 추상 클래스는 인스턴스화 불가\n",
    "\n",
    "d = Dog()\n",
    "print(d.sound()) # \"멍멍\""
   ]
  },
  {
   "cell_type": "markdown",
   "id": "f6c22f99",
   "metadata": {},
   "source": [
    "### 정적멤버 (static variable, static methods)\n",
    "\n",
    "- 파이썬에서 정적 메서드\n",
    "\n",
    "    - 파이썬에서 static member(정적멤버, 클래스 변수)는 클래스 전체에서 공유된느 변수\n",
    "\n",
    "    - 클래스 변수, 클래스 메소드라고 함\n",
    "\n",
    "    - 메서드의 경우 @staticmethod 데코레이터를 사용해 정적 메서드를 정의\n",
    "\n",
    "    - 정적 변수는 클래스 안에 self가 아닌 일반 변수로 선언하고 클래스.변수 형태로 접근"
   ]
  },
  {
   "cell_type": "code",
   "execution_count": 7,
   "id": "36bafdf1",
   "metadata": {},
   "outputs": [
    {
     "name": "stdout",
     "output_type": "stream",
     "text": [
      "1\n",
      "1\n",
      "2\n"
     ]
    }
   ],
   "source": [
    "# 정적 멤버 예제\n",
    "\n",
    "class Counter:\n",
    "    count = 0\n",
    "    \n",
    "    def __init__(self):\n",
    "        self.object_counter = 1\n",
    "        \n",
    "    @staticmethod\n",
    "    def increment_class():\n",
    "        Counter.count += 1\n",
    "        \n",
    "    def increment_object(self):\n",
    "        self.object_counter += 1 #private\n",
    "        \n",
    "if __name__ == \"__main__\":\n",
    "    Counter.increment_class()\n",
    "    print(Counter.count)\n",
    "    \n",
    "    c = Counter()              #인스턴스 생성\n",
    "    print(c.object_counter)     # 1\n",
    "    c.increment_object()\n",
    "    print(c.object_counter)   # private 접근불가|"
   ]
  },
  {
   "cell_type": "markdown",
   "id": "a50dd60a",
   "metadata": {},
   "source": [
    "## 클래스 Dunder Methods (__init__, __str__, __eq__, __gt__)\n",
    "\n",
    "### Dunder methods\n",
    "\n",
    "- Duder\n",
    "\n",
    "    - Double Underlines의 약자\n",
    "\n",
    "    - 파이썬에서는 Underlines은 특별한 의미로 사용할 때가 많음\n",
    "\n",
    "    - __XXX__ 메소드는 자동으로 호출되는 경우가 많음\n",
    "\n",
    "    - 이런한 메소드를 재정의하여 사용자 코드를 수행하도록 할 수 있음\n",
    "\n",
    "- Dunder Methods 예 : dir(object)\n",
    "\n",
    "    - __init__(self,...): 클래스 생성함수, 객체 만들어질 때 자동 실행\n",
    "\n",
    "    - __str__(self): 클래스 객체를 문자열로 형변환 할 때 자동 실행\n",
    "\n",
    "    - __eq__(self,other): 이 객체와 다른 객체를 같은지 여부\n",
    "\n",
    "    - __gt__(self,other): 이 객체가 다른 객체보다 큰지 여부\n",
    "\n",
    "- dir(object)\n",
    "\n",
    "```python\n",
    ">>> dir(object)\n",
    "['__class__', '__delattr__', '__dir__', '__doc__', '__eq__', '__format__', '__ge__', '__getattribute__', '__getstate__', '__gt__', '__hash__', '__init__', '__init_subclass__', '__le__', '__lt__', '__ne__', '__new__', '__reduce__', '__reduce_ex__', '__repr__', '__setattr__', '__sizeof__', '__str__', '__subclasshook__']\n",
    ">>> \n",
    "```"
   ]
  },
  {
   "cell_type": "code",
   "execution_count": 9,
   "id": "2d90a46d",
   "metadata": {},
   "outputs": [
    {
     "name": "stdout",
     "output_type": "stream",
     "text": [
      "Student Bob is being deleted\n",
      "Student Alice is being deleted\n",
      "Student(name=Alice, age=20)\n",
      "Student(name=Bob, age=22)\n",
      "False\n",
      "True\n",
      "Student Alice is being deleted\n"
     ]
    }
   ],
   "source": [
    "class Student:\n",
    "    def __init__(self, name, age):\n",
    "        self.name = name\n",
    "        self.age = age\n",
    "\n",
    "    def __str__(self):\n",
    "        return f\"Student(name={self.name}, age={self.age})\"\n",
    "\n",
    "    def __eq__(self, other):\n",
    "        if isinstance(other, Student):\n",
    "            return self.name == other.name and self.age == other.age\n",
    "        return False\n",
    "\n",
    "    def __del__(self):\n",
    "        print(f\"Student {self.name} is being deleted\")\n",
    "\n",
    "\n",
    "if __name__ == \"__main__\":\n",
    "    student1 = Student(\"Alice\", 20)\n",
    "    student2 = Student(\"Bob\", 22)\n",
    "    student3 = Student(\"Alice\", 20)\n",
    "\n",
    "    print(student1)   # Calls __str__ \n",
    "    print(student2)   # Calls __str__ \n",
    "\n",
    "    print(student1 == student2)  # Calls __eq__ \n",
    "    print(student1 == student3)  # Calls __eq__ \n",
    "\n",
    "    del student1  # Calls __del__ \n"
   ]
  },
  {
   "cell_type": "markdown",
   "id": "21e30563",
   "metadata": {},
   "source": [
    "## 파이썬 데코레이터\n",
    "\n",
    "### 파이썬 데코레이터\n",
    "\n",
    "- 파이썬 데코레이터(decorator)는 함수나 클래스의 동작을 수정하거나 확장할 때 사용하는 문법\n",
    "\n",
    "    - 함수(또는 메서드) 정의 위에 @데코레이터이름 형태로 사용\n",
    "\n",
    "    - 해당 함수가 호출될 때 데코레이터 함수 내에서 해당 함수가 실행\n",
    "\n",
    "    - 데코레이터 함수의 정의 다음 형식을 따라 wrapper 이름의 멤버 메소드를 정의\n",
    "\n",
    "    ```python\n",
    "\n",
    "    def deco_func(func):\n",
    "        def wrapper(*args, **kwargs):\n",
    "        ...\n",
    "        result = func(*args,**kwargs)\n",
    "        ...\n",
    "        return result\n",
    "    return wrapper"
   ]
  },
  {
   "cell_type": "code",
   "execution_count": null,
   "id": "aa950494",
   "metadata": {},
   "outputs": [],
   "source": [
    "# 파이썬 데코레이터(annotation) 예제\n",
    "\n",
    "def simple_decorator(func):\n",
    "    def wrapper"
   ]
  }
 ],
 "metadata": {
  "kernelspec": {
   "display_name": ".venv (3.13.3)",
   "language": "python",
   "name": "python3"
  },
  "language_info": {
   "codemirror_mode": {
    "name": "ipython",
    "version": 3
   },
   "file_extension": ".py",
   "mimetype": "text/x-python",
   "name": "python",
   "nbconvert_exporter": "python",
   "pygments_lexer": "ipython3",
   "version": "3.13.3"
  }
 },
 "nbformat": 4,
 "nbformat_minor": 5
}
