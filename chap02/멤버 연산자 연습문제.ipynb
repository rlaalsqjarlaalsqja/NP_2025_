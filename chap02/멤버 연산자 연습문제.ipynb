{
 "cells": [
  {
   "cell_type": "markdown",
   "id": "0c187cff",
   "metadata": {},
   "source": [
    "## 멤버 연산자 연습문제\n",
    "\n",
    "학번 : 202110156\n",
    "\n",
    "이름 : 김민범"
   ]
  },
  {
   "cell_type": "markdown",
   "id": "f2ee05f3",
   "metadata": {},
   "source": [
    "1. 숫자 7이 리스트[1,2,3,4,5]에 포함되어 있는지 검사하는 프로그램을 작성하라."
   ]
  },
  {
   "cell_type": "markdown",
   "id": "26ceed9d",
   "metadata": {},
   "source": [
    "2. 문자열 \"apple\" 이 세트 {\"orange\",\"banana\",\"kiwi\"}에 포함되어 있는지 검사하는 프로그램을 작성하라."
   ]
  },
  {
   "cell_type": "markdown",
   "id": "c20a5957",
   "metadata": {},
   "source": [
    "3. 숫자 6이 딕셔너리{\"a\":1, \"b\":2, \"c\":3, \"d\":4}의 값들 중 하나인지 검사하는 프로그램을 작성하라."
   ]
  },
  {
   "cell_type": "markdown",
   "id": "74a9cdf4",
   "metadata": {},
   "source": [
    "4. 문자열 \"cat\" 이 튜플 (\"dog\",\"cat\",\"bird\",\"hamster\")에 포함되어 있는지 검사하는 프로그램을 작성하라."
   ]
  },
  {
   "cell_type": "markdown",
   "id": "6954245c",
   "metadata": {},
   "source": [
    "5. 숫자 10이 세트 {2,4,6,8,10}에 포함되어 있는지 검사하는 프로그램을 작성하라."
   ]
  },
  {
   "cell_type": "markdown",
   "id": "ade0e3b0",
   "metadata": {},
   "source": []
  }
 ],
 "metadata": {
  "language_info": {
   "name": "python"
  }
 },
 "nbformat": 4,
 "nbformat_minor": 5
}
