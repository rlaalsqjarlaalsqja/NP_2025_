{
 "cells": [
  {
   "cell_type": "markdown",
   "id": "cc0f20e1",
   "metadata": {},
   "source": [
    "## Chap02 연습문제2\n",
    "\n",
    "학번 : 202110156\n",
    "\n",
    "이름 : 김민범"
   ]
  },
  {
   "cell_type": "markdown",
   "id": "f73f491e",
   "metadata": {},
   "source": [
    "1. 초를 입력하면 분과 초로 표시하는 프로그램. 예를 들어, 200초를 입력하면 3분 20초로 표현하라"
   ]
  },
  {
   "cell_type": "markdown",
   "id": "296e4b65",
   "metadata": {},
   "source": [
    "2. 분(min)을 입력 하면, 일, 시간, 분으로 출력하는 프로그램을 만들어라. (예 : 1550분은 1일 1시간 50분)"
   ]
  },
  {
   "cell_type": "markdown",
   "id": "80129f9a",
   "metadata": {},
   "source": [
    "3. 500만원을 년이율 5%로 복리 저금했을 때 5년 후의 원리금의 합계를 출력하는 프로그램"
   ]
  },
  {
   "cell_type": "markdown",
   "id": "50a4d213",
   "metadata": {},
   "source": [
    "4. 1부터 n까지의 합은 n(n+1)/2로 주어진다. 1부터 100까지의 합을 구하여 출력하는 프로그램을 작성하고 실행하라."
   ]
  },
  {
   "cell_type": "markdown",
   "id": "2d74f2f9",
   "metadata": {},
   "source": [
    "5. 판매자가 딸기와 포도를 판매하고 있다. 포도 한 알의 무게는 75g이고 딸기 한 알의 무게는 113.5g이다. 사용자로부터 포도 알의 개수와 딸기의 개수를 입력 받아 총 무게를 계산하여 출력하는 프로그램을 작성하고 실행하라."
   ]
  },
  {
   "cell_type": "markdown",
   "id": "6549dae1",
   "metadata": {},
   "source": []
  }
 ],
 "metadata": {
  "language_info": {
   "name": "python"
  }
 },
 "nbformat": 4,
 "nbformat_minor": 5
}
