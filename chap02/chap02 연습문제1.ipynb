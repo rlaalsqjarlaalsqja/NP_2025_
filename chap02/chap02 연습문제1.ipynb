{
 "cells": [
  {
   "cell_type": "markdown",
   "id": "4ff5127d",
   "metadata": {},
   "source": [
    "## 기본입출력함수 연습문제1\n",
    "\n",
    "학번 : 202110156\n",
    "\n",
    "이름 : 김민범"
   ]
  },
  {
   "cell_type": "markdown",
   "id": "9d392521",
   "metadata": {},
   "source": [
    "1. 키보드에서 임의의 두 실수를 입력 받아 곱한 후 그 결과를 출력하는 프로그램을 작성하고 실행하라"
   ]
  },
  {
   "cell_type": "code",
   "execution_count": null,
   "id": "4b0dbd56",
   "metadata": {},
   "outputs": [
    {
     "name": "stdout",
     "output_type": "stream",
     "text": [
      "8.0\n"
     ]
    }
   ],
   "source": [
    "## 키보드에서 입력받은 값은 문자열 형태이므로 float() 함수를 사용해서 실수로 변환해야함\n",
    "\n",
    "a = float(input(\"첫번째 실수 입력: \"))\n",
    "b = float(input(\"두번째 실수 입력: \"))\n",
    "\n",
    "\n",
    "result = a * b\n",
    "##결과값 출력\n",
    "print(result)\n"
   ]
  },
  {
   "cell_type": "markdown",
   "id": "b20e1342",
   "metadata": {},
   "source": [
    "2. 1마일은 1.609km이다. 키보드에서 마일(정수)을 입력 받아 km로 변환해 출력하는 프로그램을 작성하고 실행하라"
   ]
  },
  {
   "cell_type": "code",
   "execution_count": 3,
   "id": "0d6de4af",
   "metadata": {},
   "outputs": [
    {
     "name": "stdout",
     "output_type": "stream",
     "text": [
      "95 마일은 152.855 킬로미터입니다.\n"
     ]
    }
   ],
   "source": [
    "mile = int(input(\"마일 입력 : \"))\n",
    "## 변환계산 (공식 : 1마일 = 1.609킬로미터)\n",
    "km = mile * 1.609\n",
    "## 결과 출력\n",
    "print(mile, \"마일은\", km, \"킬로미터입니다.\")"
   ]
  },
  {
   "cell_type": "markdown",
   "id": "0a70ae37",
   "metadata": {},
   "source": [
    "3. 원의 반지름을 입력 받아 원의 둘레와 원의 면적을 출력하는 프로그램을 작성하라"
   ]
  },
  {
   "cell_type": "code",
   "execution_count": null,
   "id": "0efdd7f7",
   "metadata": {},
   "outputs": [],
   "source": [
    "# 공식: 둘레 = 2 × π × r\n",
    "#       면적 = π × r^2\n",
    "\n",
    "# 원주율 π를 사용하기 위해 math 모듈 import\n",
    "import math\n",
    "# 반지름 입력 (실수 가능)\n",
    "radius = float(input(\"반지름 입력 : \"))\n",
    "\n",
    "# 원의 둘레 계산\n",
    "circumference = 2 * math.pi * radius\n",
    "# 원의 면적 계산\n",
    "area = math.pi * radius * radius\n",
    "\n",
    "# 결과 출력\n",
    "print(\"원의 둘레:\", circumference)\n",
    "print(\"원의 넓이:\", area)"
   ]
  }
 ],
 "metadata": {
  "kernelspec": {
   "display_name": ".venv (3.13.3)",
   "language": "python",
   "name": "python3"
  },
  "language_info": {
   "codemirror_mode": {
    "name": "ipython",
    "version": 3
   },
   "file_extension": ".py",
   "mimetype": "text/x-python",
   "name": "python",
   "nbconvert_exporter": "python",
   "pygments_lexer": "ipython3",
   "version": "3.13.3"
  }
 },
 "nbformat": 4,
 "nbformat_minor": 5
}
