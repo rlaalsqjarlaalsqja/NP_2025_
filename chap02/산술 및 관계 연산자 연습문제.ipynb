{
 "cells": [
  {
   "cell_type": "markdown",
   "id": "0df14c2c",
   "metadata": {},
   "source": [
    "## 산술 및 관계 연산자 연습문제\n",
    "\n",
    "학번 : 202110156 \n",
    "\n",
    "이름 : 김민범\n",
    "\n"
   ]
  },
  {
   "cell_type": "markdown",
   "id": "51d767aa",
   "metadata": {},
   "source": [
    "1. 5와 3을 더한 값을 출력하는 프로그램을 작성하라"
   ]
  },
  {
   "cell_type": "code",
   "execution_count": 1,
   "id": "ec9920a3",
   "metadata": {},
   "outputs": [
    {
     "name": "stdout",
     "output_type": "stream",
     "text": [
      "8\n"
     ]
    }
   ],
   "source": [
    "print(5+3)"
   ]
  },
  {
   "cell_type": "markdown",
   "id": "b875d16f",
   "metadata": {},
   "source": [
    "2. 7에서 3을 뺀 값을 출력하는 프로그램을 작성하라"
   ]
  },
  {
   "cell_type": "code",
   "execution_count": 2,
   "id": "40307241",
   "metadata": {},
   "outputs": [
    {
     "name": "stdout",
     "output_type": "stream",
     "text": [
      "4\n"
     ]
    }
   ],
   "source": [
    "print(7-3)"
   ]
  },
  {
   "cell_type": "markdown",
   "id": "d1dd90d9",
   "metadata": {},
   "source": [
    "3. 4를 2로 나눈 값을 출력하는 프로그램을 작성하라"
   ]
  },
  {
   "cell_type": "code",
   "execution_count": 3,
   "id": "0e6c6fb1",
   "metadata": {},
   "outputs": [
    {
     "name": "stdout",
     "output_type": "stream",
     "text": [
      "2.0\n"
     ]
    }
   ],
   "source": [
    "print(4/2)"
   ]
  },
  {
   "cell_type": "markdown",
   "id": "d9734d0d",
   "metadata": {},
   "source": [
    "4. 8을 3으로 나눈 목과 나머지를 출력하는 프로그램을 작성하라"
   ]
  },
  {
   "cell_type": "code",
   "execution_count": 4,
   "id": "3f5df50c",
   "metadata": {},
   "outputs": [
    {
     "name": "stdout",
     "output_type": "stream",
     "text": [
      "2\n",
      "2\n"
     ]
    }
   ],
   "source": [
    "print(8//3)\n",
    "print(8%3)"
   ]
  },
  {
   "cell_type": "markdown",
   "id": "7d7812ce",
   "metadata": {},
   "source": [
    "5. 2의 5제곱을 출력하는 프로그램을 작성하라"
   ]
  },
  {
   "cell_type": "code",
   "execution_count": 5,
   "id": "2c380e02",
   "metadata": {},
   "outputs": [
    {
     "name": "stdout",
     "output_type": "stream",
     "text": [
      "32\n"
     ]
    }
   ],
   "source": [
    "print(2**5)"
   ]
  },
  {
   "cell_type": "markdown",
   "id": "e5a9f5a3",
   "metadata": {},
   "source": [
    "6. 입력된 정수가 10보다 크고 20 보다 작은지 검사하는 프로그램을 작성하라."
   ]
  },
  {
   "cell_type": "code",
   "execution_count": 6,
   "id": "8aa58c63",
   "metadata": {},
   "outputs": [
    {
     "name": "stdout",
     "output_type": "stream",
     "text": [
      "True\n"
     ]
    }
   ],
   "source": [
    "n = int(input(\"정수를 입력 : \"))\n",
    "print(n > 10 and n < 20)"
   ]
  },
  {
   "cell_type": "markdown",
   "id": "e070a814",
   "metadata": {},
   "source": [
    "7. 문자열 \"hello\" 와 문자열 \"world\"를 이어 붙인 결과를 출력하는 프로그램을 작성하라."
   ]
  },
  {
   "cell_type": "code",
   "execution_count": 7,
   "id": "96052523",
   "metadata": {},
   "outputs": [
    {
     "name": "stdout",
     "output_type": "stream",
     "text": [
      "helloworld\n"
     ]
    }
   ],
   "source": [
    "print(\"hello\" + \"world\")"
   ]
  },
  {
   "cell_type": "markdown",
   "id": "3ca78116",
   "metadata": {},
   "source": [
    "8. 7을 2로 나눈 결과가 3보다 작은지 검사하는 프로그램을 작성하라."
   ]
  },
  {
   "cell_type": "code",
   "execution_count": 8,
   "id": "23bf4a68",
   "metadata": {},
   "outputs": [
    {
     "name": "stdout",
     "output_type": "stream",
     "text": [
      "False\n"
     ]
    }
   ],
   "source": [
    "print((7/2)<3)"
   ]
  },
  {
   "cell_type": "markdown",
   "id": "922655d5",
   "metadata": {},
   "source": [
    "9. 변수 x의 값이 5와 같지 않은지 검사하는 프로그램을 작성하라."
   ]
  },
  {
   "cell_type": "code",
   "execution_count": 10,
   "id": "24721074",
   "metadata": {},
   "outputs": [
    {
     "name": "stdout",
     "output_type": "stream",
     "text": [
      "False\n"
     ]
    }
   ],
   "source": [
    "x = 5\n",
    "print(x != 5)"
   ]
  },
  {
   "cell_type": "markdown",
   "id": "2b6a604d",
   "metadata": {},
   "source": [
    "10. 변수 y의 값이 10에서 20 사이의 값인지 검사하는 프로그램을 작성하라."
   ]
  },
  {
   "cell_type": "code",
   "execution_count": 11,
   "id": "985dafe5",
   "metadata": {},
   "outputs": [
    {
     "name": "stdout",
     "output_type": "stream",
     "text": [
      "True\n"
     ]
    }
   ],
   "source": [
    "y = 15\n",
    "print(10 < y < 20)"
   ]
  }
 ],
 "metadata": {
  "kernelspec": {
   "display_name": ".venv (3.13.3)",
   "language": "python",
   "name": "python3"
  },
  "language_info": {
   "codemirror_mode": {
    "name": "ipython",
    "version": 3
   },
   "file_extension": ".py",
   "mimetype": "text/x-python",
   "name": "python",
   "nbconvert_exporter": "python",
   "pygments_lexer": "ipython3",
   "version": "3.13.3"
  }
 },
 "nbformat": 4,
 "nbformat_minor": 5
}
