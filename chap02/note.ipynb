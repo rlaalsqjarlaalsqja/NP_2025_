{
 "cells": [
  {
   "cell_type": "markdown",
   "id": "f55839ea",
   "metadata": {},
   "source": [
    "## 2장 노트정리\n",
    "\n",
    "이 파일은 2장 학습하면서 실행한 내용을 정리한 것이다.\n",
    "\n",
    "날짜 : 2025.9.9\n",
    "\n",
    "저자 : 김민범\n",
    "\n"
   ]
  },
  {
   "cell_type": "code",
   "execution_count": 6,
   "id": "94fca6fd",
   "metadata": {},
   "outputs": [
    {
     "name": "stdout",
     "output_type": "stream",
     "text": [
      "Hello,여러분\n"
     ]
    }
   ],
   "source": [
    "print(\"Hello,여러분\")"
   ]
  },
  {
   "cell_type": "code",
   "execution_count": null,
   "id": "be34610f",
   "metadata": {},
   "outputs": [],
   "source": []
  }
 ],
 "metadata": {
  "kernelspec": {
   "display_name": ".venv (3.13.3)",
   "language": "python",
   "name": "python3"
  },
  "language_info": {
   "codemirror_mode": {
    "name": "ipython",
    "version": 3
   },
   "file_extension": ".py",
   "mimetype": "text/x-python",
   "name": "python",
   "nbconvert_exporter": "python",
   "pygments_lexer": "ipython3",
   "version": "3.13.3"
  }
 },
 "nbformat": 4,
 "nbformat_minor": 5
}
