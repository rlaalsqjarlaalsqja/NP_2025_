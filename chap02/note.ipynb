{
 "cells": [
  {
   "cell_type": "markdown",
   "id": "f55839ea",
   "metadata": {},
   "source": [
    "## 2장 노트정리\n",
    "\n",
    "이 파일은 2장 학습하면서 실행한 내용을 정리한 것이다.\n",
    "\n",
    "날짜 : 2025.9.9\n",
    "\n",
    "저자 : 김민범\n",
    "\n"
   ]
  },
  {
   "cell_type": "code",
   "execution_count": 6,
   "id": "94fca6fd",
   "metadata": {},
   "outputs": [
    {
     "name": "stdout",
     "output_type": "stream",
     "text": [
      "Hello,여러분\n"
     ]
    }
   ],
   "source": [
    "print(\"Hello,여러분\")"
   ]
  },
  {
   "cell_type": "code",
   "execution_count": 9,
   "id": "be34610f",
   "metadata": {},
   "outputs": [
    {
     "name": "stdout",
     "output_type": "stream",
     "text": [
      "x = 3\n"
     ]
    }
   ],
   "source": [
    "x = 3\n",
    "print(f\"x = {x}\")"
   ]
  },
  {
   "cell_type": "markdown",
   "id": "256333eb",
   "metadata": {},
   "source": [
    "# 기본입출력\n",
    "\n",
    "print() : 숫자나 문자열 등의 데이터나 수식 화면 출력\n",
    "\n",
    "input() : 키보드 입력 (숫자나 문자열 등의 데이터 입력을 받을 때 사용)\n",
    "\n",
    "# 기본자료형\n",
    "\n",
    "부울형(boolean) :  참 또는 거짓\n",
    "\n",
    "정수형(integer) : 정수\n",
    "\n",
    "실수형(float) : 실수\n",
    "\n",
    "문자열(string) : 나열된 문자열\n"
   ]
  },
  {
   "cell_type": "markdown",
   "id": "5acdc3d2",
   "metadata": {},
   "source": [
    "# 연산자\n",
    "\n",
    "지정연산자 : 변수의 값을 지정\n",
    "\n",
    "산술연산자 : 사칙연산자(+,-,*,/), 정수나눗셈(//), 나머지연산(%)\n",
    "\n",
    "관계연산자 : 비교연산자\n",
    "\n",
    "논리연산자 : 논리곱(and), 논리합(or), 논리부정(not)\n",
    "\n",
    "멤버연산자 : in, not in (특정 문자열 또는 값이 문자열 또는 리스트에 속해 있는지 판별함)\n",
    "\n",
    "식별연산자 : is, is not (양쪽 변수의 주소가 같은지 다른지 판단) ==, !="
   ]
  },
  {
   "cell_type": "markdown",
   "id": "716edf82",
   "metadata": {},
   "source": []
  },
  {
   "cell_type": "markdown",
   "id": "fa20a9b2",
   "metadata": {},
   "source": []
  }
 ],
 "metadata": {
  "kernelspec": {
   "display_name": ".venv (3.13.3)",
   "language": "python",
   "name": "python3"
  },
  "language_info": {
   "codemirror_mode": {
    "name": "ipython",
    "version": 3
   },
   "file_extension": ".py",
   "mimetype": "text/x-python",
   "name": "python",
   "nbconvert_exporter": "python",
   "pygments_lexer": "ipython3",
   "version": "3.13.3"
  }
 },
 "nbformat": 4,
 "nbformat_minor": 5
}
