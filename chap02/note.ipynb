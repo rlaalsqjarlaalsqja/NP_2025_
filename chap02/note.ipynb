{
 "cells": [
  {
   "cell_type": "markdown",
   "id": "f55839ea",
   "metadata": {},
   "source": [
    "## 2장 노트정리\n",
    "\n",
    "이 파일은 2장 학습하면서 실행한 내용을 정리한 것이다.\n",
    "\n",
    "날짜 : 2025.9.9\n",
    "\n",
    "저자 : 김민범\n",
    "\n"
   ]
  },
  {
   "cell_type": "code",
   "execution_count": 6,
   "id": "94fca6fd",
   "metadata": {},
   "outputs": [
    {
     "name": "stdout",
     "output_type": "stream",
     "text": [
      "Hello,여러분\n"
     ]
    }
   ],
   "source": [
    "print(\"Hello,여러분\")"
   ]
  },
  {
   "cell_type": "code",
   "execution_count": 9,
   "id": "be34610f",
   "metadata": {},
   "outputs": [
    {
     "name": "stdout",
     "output_type": "stream",
     "text": [
      "x = 3\n"
     ]
    }
   ],
   "source": [
    "x = 3\n",
    "print(f\"x = {x}\")"
   ]
  },
  {
   "cell_type": "markdown",
   "id": "256333eb",
   "metadata": {},
   "source": [
    "# 기본입출력\n",
    "\n",
    "print() : 숫자나 문자열 등의 데이터나 수식 화면 출력\n",
    "\n",
    "input() : 키보드 입력 (숫자나 문자열 등의 데이터 입력을 받을 때 사용)\n",
    "\n",
    "\n",
    "print() 함수\n",
    "\n",
    "```python\n",
    ">>> print(10+20)\n",
    "30\n",
    ">>> print(\"동양미래대학교\")\n",
    "동양미래대학교\n",
    ">>> print(\"abc\"*3)\n",
    "abcabcabc\n",
    ">>> x=25\n",
    ">>> y=32\n",
    ">>> z=x+y\n",
    ">>> print(x,y)\n",
    "25 32\n",
    ">>> print(x, '+', y, '=',z)\n",
    "25 + 32 = 57\n",
    "```\n",
    "\n",
    "print() 함수-서식 지정\n",
    "\n",
    "```python\n",
    ">>> print(10+20)\n",
    "30\n",
    ">>> print(\"10\"+\"20\")\n",
    "1020\n",
    ">>> print(\"abc\" * 3)\n",
    "abcabcabc\n",
    ">>> n=10\n",
    ">>> print(\"n=%d\" %n)\n",
    "n=10\n",
    ">>> m=5.2\n",
    ">>> print(\"m=%.1f, n=%d\" %(m,n))\n",
    "m=5.2, n=10\n",
    "```\n",
    "\n",
    "input() 함수\n",
    "\n",
    "```python\n",
    ">>> n=input('type a number :')\n",
    "type a number :3\n",
    ">>> n\n",
    "'3'\n",
    ">>> int(n)\n",
    "3\n",
    ">>> float(n)\n",
    "3.0\n",
    ">>> n = str(3)\n",
    ">>> n\n",
    "'3'\n",
    "```\n",
    "\n",
    "\n",
    "\n"
   ]
  },
  {
   "cell_type": "markdown",
   "id": "f0fa4d57",
   "metadata": {},
   "source": []
  }
 ],
 "metadata": {
  "kernelspec": {
   "display_name": ".venv (3.13.3)",
   "language": "python",
   "name": "python3"
  },
  "language_info": {
   "codemirror_mode": {
    "name": "ipython",
    "version": 3
   },
   "file_extension": ".py",
   "mimetype": "text/x-python",
   "name": "python",
   "nbconvert_exporter": "python",
   "pygments_lexer": "ipython3",
   "version": "3.13.3"
  }
 },
 "nbformat": 4,
 "nbformat_minor": 5
}
