{
 "cells": [
  {
   "cell_type": "markdown",
   "id": "f55839ea",
   "metadata": {},
   "source": [
    "## 2장 노트정리\n",
    "\n",
    "이 파일은 2장 학습하면서 실행한 내용을 정리한 것이다.\n",
    "\n",
    "날짜 : 2025.9.9\n",
    "\n",
    "저자 : 김민범\n",
    "\n"
   ]
  },
  {
   "cell_type": "code",
   "execution_count": 6,
   "id": "94fca6fd",
   "metadata": {},
   "outputs": [
    {
     "name": "stdout",
     "output_type": "stream",
     "text": [
      "Hello,여러분\n"
     ]
    }
   ],
   "source": [
    "print(\"Hello,여러분\")"
   ]
  },
  {
   "cell_type": "code",
   "execution_count": 9,
   "id": "be34610f",
   "metadata": {},
   "outputs": [
    {
     "name": "stdout",
     "output_type": "stream",
     "text": [
      "x = 3\n"
     ]
    }
   ],
   "source": [
    "x = 3\n",
    "print(f\"x = {x}\")"
   ]
  },
  {
   "cell_type": "markdown",
   "id": "256333eb",
   "metadata": {},
   "source": [
    "# 기본입출력\n",
    "\n",
    "print() : 숫자나 문자열 등의 데이터나 수식 화면 출력\n",
    "\n",
    "input() : 키보드 입력 (숫자나 문자열 등의 데이터 입력을 받을 때 사용)\n",
    "\n",
    "\n",
    "print() 함수\n",
    "\n",
    "```python\n",
    ">>> print(10+20)\n",
    "30\n",
    ">>> print(\"동양미래대학교\")\n",
    "동양미래대학교\n",
    ">>> print(\"abc\"*3)\n",
    "abcabcabc\n",
    ">>> x=25\n",
    ">>> y=32\n",
    ">>> z=x+y\n",
    ">>> print(x,y)\n",
    "25 32\n",
    ">>> print(x, '+', y, '=',z)\n",
    "25 + 32 = 57\n",
    "```\n",
    "\n",
    "print() 함수-서식 지정\n",
    "\n",
    "```python\n",
    ">>> print(10+20)\n",
    "30\n",
    ">>> print(\"10\"+\"20\")\n",
    "1020\n",
    ">>> print(\"abc\" * 3)\n",
    "abcabcabc\n",
    ">>> n=10\n",
    ">>> print(\"n=%d\" %n)\n",
    "n=10\n",
    ">>> m=5.2\n",
    ">>> print(\"m=%.1f, n=%d\" %(m,n))\n",
    "m=5.2, n=10\n",
    "```\n",
    "\n",
    "input() 함수\n",
    "\n",
    "```python\n",
    ">>> n=input('type a number :')\n",
    "type a number :3\n",
    ">>> n\n",
    "'3'\n",
    ">>> int(n)\n",
    "3\n",
    ">>> float(n)\n",
    "3.0\n",
    ">>> n = str(3)\n",
    ">>> n\n",
    "'3'\n",
    "```\n",
    "\n",
    "입출력 함수의 사용 예\n",
    "\n",
    "```python\n",
    ">>> name = input('Name:')\n",
    "Name: 김민범\n",
    ">>> print(\"Hello,\" + name)\n",
    "Hello, 김민범\n",
    ">>> a = int(input('Number 1:'))\n",
    "Number 1:2\n",
    ">>> b = int(input('Number 2:'))\n",
    "Number 2:3\n",
    ">>> print(a*b)\n",
    "6\n",
    ">>> print(a+b)\n",
    "5\n",
    ">>> C = float(input(\"Type 섭씨온도 : \"))\n",
    "Type 섭씨온도 : 30\n",
    ">>> F = C*9/5+32\n",
    ">>> print(\"화씨온도는\", F)\n",
    "화씨온도는 86.0\n",
    "```\n",
    "\n",
    "\n"
   ]
  },
  {
   "cell_type": "markdown",
   "id": "f0fa4d57",
   "metadata": {},
   "source": [
    "# 기본 자료형\n",
    "\n",
    "1. 부울형 : 참 또는 거짓 중 하나의 값을 갖는 자료형\n",
    "\n",
    "2. 정수형 : 정수표현\n",
    "\n",
    "3. 실수형 : 실수표현\n",
    "\n",
    "4. 문자열 : 나열된 문자(\"또는'로 둘러쌈)\n",
    "\n",
    "부울형(Boolean)\n",
    "```python\n",
    ">>> aVar = True\n",
    ">>> bVar = False\n",
    ">>> type(aVar)\n",
    "<class 'bool'>\n",
    ">>> a=1\n",
    ">>> b=2\n",
    ">>> c=a>b\n",
    ">>> c\n",
    "False\n",
    ">>> d=a<b\n",
    ">>> d\n",
    "True\n",
    "```\n",
    "\n",
    "정수형(integer)\n",
    "```python\n",
    ">>> intVar = 5\n",
    ">>> type(intVar)\n",
    "<class 'int'>\n",
    "```\n",
    "\n",
    "실수형(float)\n",
    "```python\n",
    ">>> fVar = 1.0\n",
    ">>> type(fVar)\n",
    "<class 'float'>\n",
    "\n",
    ">>> 100_000.000_0001, 0x_FF_FF, 0o7_777, 0b_1010_1010\n",
    "(100000.0000001, 65535, 4095, 170)\n",
    "\n",
    ">>> 0.00_10_27\n",
    "0.001027\n",
    "```\n",
    "\n",
    "문자열(string)\n",
    "```python\n",
    ">>> strVar = \"test\"\n",
    ">>> type(strVar)\n",
    "<class 'str'>\n",
    ">>> 'This is a literal string'\n",
    "'This is a literal string'\n",
    ">>> \"This is another sting\"\n",
    "'This is another sting'\n",
    ">>> \"I'm a Python fanatic\"\n",
    "\"I'm a Python fanatic\"\n",
    ">>> 'I\"m a Python fanatic'\n",
    "'I\"m a Python fanatic'\n",
    "\n",
    ">>> 'A not very long string \\\n",
    "... that spans two lines'\n",
    "'A not very long string that spans two lines'\n",
    "```\n"
   ]
  },
  {
   "cell_type": "markdown",
   "id": "92967e08",
   "metadata": {},
   "source": [
    "# 연산자\n",
    "\n",
    "1. 지정 연산자(assignment operator); 할당연산자\n",
    "\n",
    "변수의 값을 지정하기 위해 사용(=)"
   ]
  },
  {
   "cell_type": "code",
   "execution_count": 7,
   "id": "6d0774e0",
   "metadata": {},
   "outputs": [
    {
     "name": "stdout",
     "output_type": "stream",
     "text": [
      "5\n"
     ]
    }
   ],
   "source": [
    "i = 3\n",
    "i = i + 2\n",
    "print(i)"
   ]
  },
  {
   "cell_type": "markdown",
   "id": "be7ad4e1",
   "metadata": {},
   "source": [
    "2. 산술 연산자(arithmetic operator)\n",
    "\n",
    "사칙연산자 : +,-,*,/\n",
    "\n",
    "정수나눗셈 : //\n",
    "\n",
    "나머지연산 : %"
   ]
  },
  {
   "cell_type": "code",
   "execution_count": 8,
   "id": "5dd2a31f",
   "metadata": {},
   "outputs": [
    {
     "name": "stdout",
     "output_type": "stream",
     "text": [
      "10 3 1 3 3.3333333333333335\n"
     ]
    }
   ],
   "source": [
    "a = 10\n",
    "b = 3\n",
    "c = a % b\n",
    "d = a // b\n",
    "e = a / b\n",
    "\n",
    "print(a, b, c, d, e)"
   ]
  },
  {
   "cell_type": "markdown",
   "id": "d13022bd",
   "metadata": {},
   "source": [
    "3. 관계연산자\n",
    "\n",
    "비교연산자\n",
    "\n",
    "항의 대소관계 또는 동등관계 판정\n",
    "\n",
    "연산결과는 참 또는 거짓"
   ]
  },
  {
   "cell_type": "code",
   "execution_count": 9,
   "id": "b6622b4b",
   "metadata": {},
   "outputs": [
    {
     "name": "stdout",
     "output_type": "stream",
     "text": [
      "True\n",
      "False\n",
      "False\n",
      "True\n"
     ]
    }
   ],
   "source": [
    "score = 95\n",
    "print(score >= 90)\n",
    "print(score < 80)   \n",
    "print(score == 90)  \n",
    "print(score != 80)  "
   ]
  },
  {
   "cell_type": "markdown",
   "id": "ef063e97",
   "metadata": {},
   "source": [
    "4. 논리 연산자(logical operator)\n",
    "\n",
    "논리곱(and), 논리합(or), 논리부정(not)\n",
    "\n",
    "논리 연산의 대상은 True 또는 False. 결과도 True 또는 False\n",
    "\n",
    "```python\n",
    ">>> exam = 85\n",
    ">>> report = 85\n",
    ">>> exam >= 80 and report >= 80\n",
    "True\n",
    ">>> exam >= 90 or report >= 90\n",
    "False\n",
    ">>> not(exam < 90)\n",
    "False\n",
    "```\n",
    "\n"
   ]
  },
  {
   "cell_type": "markdown",
   "id": "36e9b7fc",
   "metadata": {},
   "source": [
    "5. 멤버 연산자(membership operator)\n",
    "\n",
    "in\n",
    "\n",
    "특정 문자열 또는 값이 문자열 또는 리스트(반복객체)에 속해 있는지 판별하는 연산자\n",
    "\n",
    "```python\n",
    ">>> 'py' in 'python'\n",
    "True\n",
    ">>> 'ty' not in 'python'\n",
    "True\n",
    "```"
   ]
  },
  {
   "cell_type": "markdown",
   "id": "0dfd4ec0",
   "metadata": {},
   "source": [
    "6. 식별 연산자(indentity operatror)\n",
    "\n",
    "is : 양쪽 변수의 주소가 같은지 판단. if id(a) == id(b)\n",
    "is not : 양쪽 변수의 주소가 다른지 판단. if id(a) != id(b)\n",
    "\n",
    "```python\n",
    ">>> a = 2\n",
    ">>> b = 2\n",
    ">>> id(a)\n",
    "140712188519368\n",
    ">>> id(b)\n",
    "140712188519368\n",
    "```\n",
    "\n",
    "```python\n",
    ">>> id(a) == id(b)\n",
    "True\n",
    ">>> a is b\n",
    "True\n",
    ">>> a is not b\n",
    "False\n",
    "```"
   ]
  },
  {
   "cell_type": "markdown",
   "id": "43baf3cd",
   "metadata": {},
   "source": [
    "7. 타입 에러(type error)\n",
    "\n",
    "연산할 수 없는 자료형을 연산하면 타입 에러 발생"
   ]
  },
  {
   "cell_type": "markdown",
   "id": "0821732d",
   "metadata": {},
   "source": [
    "age = 23\n",
    "message = \"Happy\" + age + \"rd Birthday!\"\n",
    "print(message)\n",
    "\n",
    "TypeError                                 Traceback (most recent call last)\n",
    "Cell In[10], line 2\n",
    "      1 age = 23\n",
    "----> 2 message = \"Happy\" + age + \"rd Birthday!\"\n",
    "      3 print(message)\n",
    "\n",
    "TypeError: can only concatenate str (not \"int\") to str"
   ]
  }
 ],
 "metadata": {
  "kernelspec": {
   "display_name": ".venv (3.13.3)",
   "language": "python",
   "name": "python3"
  },
  "language_info": {
   "codemirror_mode": {
    "name": "ipython",
    "version": 3
   },
   "file_extension": ".py",
   "mimetype": "text/x-python",
   "name": "python",
   "nbconvert_exporter": "python",
   "pygments_lexer": "ipython3",
   "version": "3.13.3"
  }
 },
 "nbformat": 4,
 "nbformat_minor": 5
}
