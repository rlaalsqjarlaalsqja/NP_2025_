{
 "cells": [
  {
   "cell_type": "markdown",
   "id": "59e37c4f",
   "metadata": {},
   "source": [
    "## 파이썬의 함수\n",
    "\n",
    "학번 : 202110156\n",
    "\n",
    "이름 : 김민범"
   ]
  },
  {
   "cell_type": "markdown",
   "id": "e03ef3ae",
   "metadata": {},
   "source": [
    "# 함수\n",
    "\n",
    "- 함수란?\n",
    "\n",
    "이름을 붙여 반복적으로 사용할 수 있는 프로그램 부분\n",
    "\n",
    "print(), input(), int(), str() 등\n",
    "\n",
    "- 함수를 사용하는 이유\n",
    "\n",
    "프로그램 안에서 중복된 코드를 제거한다.\n",
    "\n",
    "복잡한 프로그래밍 작업을 더 간단한 작업들로 분해할 수 있다.\n",
    "\n",
    "함수는 한번 만드러지면 다른 프로그램에서도 재사용될 수 있다.\n",
    "\n",
    "함수를 사용하면 가독성(프로그램의 이해)이 증대되고, 유지 관리도 쉬워진다.\n",
    "\n",
    "- 파이썬의 함수는 일급 함수이다. 함수를 변수처럼 사용\n",
    "\n",
    "변수에 할당: a = func\n",
    "\n",
    "다른 함수의 인자로 전달 가능: func1(func)\n",
    "\n",
    "return 문으로 반환 가능: return func\n",
    "\n",
    "- 함수의 종류\n",
    "\n",
    "내장 함수\n",
    "\n",
    "사용자 정의 함수\n"
   ]
  },
  {
   "cell_type": "markdown",
   "id": "8cb022bb",
   "metadata": {},
   "source": [
    "# 함수의 정의와 호출\n",
    "\n",
    "- 사용자 정의 함수의 작성 \n",
    "\n",
    "```python\n",
    "def 함수이름(매개변수) : > 함수의 이름과 매개변수 정의\n",
    "    문장1\n",
    "    문장2\n",
    "    ...\n",
    "    return 값 > 함수 종료시 반환 값. 들여쓰기가 끝나는 부분까지 함수\n",
    "```\n",
    "\n",
    "- 함수의 정의와 호출 예"
   ]
  },
  {
   "cell_type": "code",
   "execution_count": 1,
   "id": "05a625c7",
   "metadata": {},
   "outputs": [
    {
     "name": "stdout",
     "output_type": "stream",
     "text": [
      "Hello,  John\n"
     ]
    }
   ],
   "source": [
    "def welcome(name) : #함수의 정의\n",
    "    print(\"Hello, \", name) #return 문이 없어도 됨. None 반환\n",
    "    \n",
    "welcome('John') #함수의 호출. 'John'이 매개변수로 전달됨"
   ]
  },
  {
   "cell_type": "markdown",
   "id": "4d6eb8b7",
   "metadata": {},
   "source": [
    "# 함수의 반환\n",
    "\n",
    "- 반환 값이 없는 함수"
   ]
  },
  {
   "cell_type": "code",
   "execution_count": 2,
   "id": "7d283588",
   "metadata": {},
   "outputs": [
    {
     "name": "stdout",
     "output_type": "stream",
     "text": [
      "Welcome to Python\n"
     ]
    }
   ],
   "source": [
    "def prtStr(str): # str을 매개변수라 함\n",
    "    print(\"%s\" % str)\n",
    "    return # 반환 값이 없이 함수가 종료\n",
    "\n",
    "str = \"Welcome to Python\"\n",
    "prtStr(str) # 매개변수를 전달하여 함수 호출"
   ]
  },
  {
   "cell_type": "markdown",
   "id": "02acc532",
   "metadata": {},
   "source": [
    "- 값을 반환하는 함수"
   ]
  },
  {
   "cell_type": "code",
   "execution_count": 3,
   "id": "0c94954b",
   "metadata": {},
   "outputs": [
    {
     "name": "stdout",
     "output_type": "stream",
     "text": [
      "한변의 길이가 5인 정사각형의 넓이는 25\n",
      "한변의 길이가 7인 정사각형의 넓이는 49\n"
     ]
    }
   ],
   "source": [
    "def squareArea(s):\n",
    "    area = s * s\n",
    "    return area\n",
    "\n",
    "a = squareArea(5)\n",
    "b = squareArea(7)\n",
    "print(\"한변의 길이가 %d인 정사각형의 넓이는 %d\" % (5, a))\n",
    "print(\"한변의 길이가 %d인 정사각형의 넓이는 %d\" % (7, b))"
   ]
  },
  {
   "cell_type": "markdown",
   "id": "4ef3ef72",
   "metadata": {},
   "source": [
    "- 1~n 까지의 합을 계산하는 함수"
   ]
  },
  {
   "cell_type": "code",
   "execution_count": 4,
   "id": "1de77e82",
   "metadata": {},
   "outputs": [
    {
     "name": "stdout",
     "output_type": "stream",
     "text": [
      "1275\n",
      "500500\n"
     ]
    }
   ],
   "source": [
    "def sum(n): # 매개변수를 n을 전달받는다.\n",
    "    hab = 0\n",
    "    for i in range(1, n+1): # 1~n 까지 반복\n",
    "        hab = hab + i # 합에 새로운 수를 더한다.\n",
    "    return hab # 반환값 = hab\n",
    "\n",
    "a = sum(50) # 함수를 호출하여(인자=50) 1부터 50까지의 합을 계산\n",
    "b = sum(1000) # 함수를 호출하여(인자=50) 1부터 1000까지의 합\n",
    "print(a)\n",
    "print(b)"
   ]
  },
  {
   "cell_type": "markdown",
   "id": "04b3a571",
   "metadata": {},
   "source": [
    "# 함수와 변수\n",
    "\n",
    "- 지역 변수(local variable)와 전역 변수(global variable)\n",
    "\n",
    "    - 지역 변수: 함수 내에서만 값이 유효\n",
    "\n",
    "    - 전역 변수: 프로그램 전체에서 값이 유효\n",
    "\n",
    "    - 다음 프로그램에서는 v는 지역 변수이다."
   ]
  },
  {
   "cell_type": "code",
   "execution_count": 5,
   "id": "47af4a6b",
   "metadata": {},
   "outputs": [
    {
     "name": "stdout",
     "output_type": "stream",
     "text": [
      "func1()에서 v값: 10\n",
      "func2()에서 v값: 20\n"
     ]
    }
   ],
   "source": [
    "# 함수 선언부 \n",
    "def func1():\n",
    "    v = 10 # 함수 func1()안의 지역 변수. func1 내에서만 유효\n",
    "    print(\"func1()에서 v값: %d\" % v)\n",
    "    \n",
    "def func2():\n",
    "    v = 20 # 함수 func2()안의 지역 변수. func2 내에서만 유효\n",
    "    print(\"func2()에서 v값: %d\" % v)\n",
    "    \n",
    "# 메인 코드부분\n",
    "\n",
    "func1()\n",
    "func2()"
   ]
  },
  {
   "cell_type": "markdown",
   "id": "a8d10e3b",
   "metadata": {},
   "source": [
    "# 전역변수\n",
    "\n",
    "- 전역 변수의 유효 범위"
   ]
  },
  {
   "cell_type": "code",
   "execution_count": 6,
   "id": "29783d01",
   "metadata": {},
   "outputs": [
    {
     "name": "stdout",
     "output_type": "stream",
     "text": [
      "func1()의 v = 10\n",
      "func2()의 v = 20\n"
     ]
    }
   ],
   "source": [
    "# 함수 선언부\n",
    "def func1() :\n",
    " v = 10 # 함수 func1()안의 지역 변수. 지역 변수가 우선 사용\n",
    " print(\"func1()의 v = %d\" % v)\n",
    "def func2() :\n",
    " print(\"func2()의 v = %d\" % v) # 함수 func2()안의 전역 변수\n",
    "# 전역변수\n",
    "v = 20 # 전역 변수이므로 프로그램 내에서 유효\n",
    "# 메인 코드 부분\n",
    "func1() #지역 변수 값인 10을 출력. 지역 변수가 없을 때 전역 변수 사용\n",
    "func2() #전역 변수 값인 20을 출력\n"
   ]
  },
  {
   "cell_type": "markdown",
   "id": "e500cc00",
   "metadata": {},
   "source": [
    "- 전역변수의 선언"
   ]
  },
  {
   "cell_type": "code",
   "execution_count": 7,
   "id": "868a77c7",
   "metadata": {},
   "outputs": [
    {
     "name": "stdout",
     "output_type": "stream",
     "text": [
      "func1()의 v = 10\n",
      "func2()의 변경된 전역 v = 30\n",
      "30\n"
     ]
    }
   ],
   "source": [
    "# 함수 선언부\n",
    "def func1() :\n",
    " v = 10 #함수 func1()안의 지역 변수\n",
    " print(\"func1()의 v = %d\" % v)\n",
    "def func2() :\n",
    " global v #v를 전역 변수로 선언\n",
    " v = 30\n",
    " print(\"func2()의 변경된 전역 v = %d\" % v)\n",
    "v = 20 #함수 밖에서 정의 되었으므로 전역 변수\n",
    "# 메인 코드 부분\n",
    "func1() #10을 출력\n",
    "func2() #30을 출력\n",
    "print(v) #30을 출력. 전역변수 v가 변경됨"
   ]
  },
  {
   "cell_type": "markdown",
   "id": "1a18c765",
   "metadata": {},
   "source": [
    "# 함수 매개변수의 전달\n",
    "\n",
    "- 매개변수의 기본값 지정(기본 매개변수)"
   ]
  },
  {
   "cell_type": "code",
   "execution_count": 8,
   "id": "c65f7332",
   "metadata": {},
   "outputs": [
    {
     "name": "stdout",
     "output_type": "stream",
     "text": [
      "default\n",
      "HiHiHiHiHi\n"
     ]
    }
   ],
   "source": [
    "def prtMesg(message, count=1): # count의 기본값은 1\n",
    "    print(message * count)\n",
    "prtMesg('default') # message='default', count는 기본값 사용\n",
    "prtMesg('Hi', 5) # messgae와 count 인자 전달"
   ]
  },
  {
   "cell_type": "code",
   "execution_count": 9,
   "id": "8ffddf51",
   "metadata": {},
   "outputs": [
    {
     "name": "stdout",
     "output_type": "stream",
     "text": [
      "Hi! Abe, Nothing new?\n",
      "Hi! Bob, Good morning!\n"
     ]
    }
   ],
   "source": [
    "def greet(name, msg=\"Nothing new?\"):\n",
    "    print(\"Hi!\", name + ', ' + msg)\n",
    "greet(\"Abe\") #name 만 전달\n",
    "greet(\"Bob\",\"Good morning!\") #name과 msg 전달"
   ]
  },
  {
   "cell_type": "markdown",
   "id": "084fbe18",
   "metadata": {},
   "source": [
    "- 일반(위치) 매개변수의 값을 전달하지 않으면 오류\n",
    "\n",
    "```python\n",
    ">>> prtMesg(count=3)\n",
    "Traceback (most recent call last):\n",
    "  File \"<stdin>\", line 1, in <module>\n",
    "    import platform\n",
    "    ^^^^^^^\n",
    "NameError: name 'prtMesg' is not defined\n",
    "```"
   ]
  },
  {
   "cell_type": "markdown",
   "id": "73172f52",
   "metadata": {},
   "source": [
    "# 함수 매개변수의 전달\n",
    "\n",
    "- 가변 매개변수-매개변수의 개수가 가변일 때\n",
    "\n",
    "    - 매개변수가 *arg로 표시되면 튜플로 처리"
   ]
  },
  {
   "cell_type": "code",
   "execution_count": 10,
   "id": "f08f5f10",
   "metadata": {},
   "outputs": [
    {
     "name": "stdout",
     "output_type": "stream",
     "text": [
      "6\n",
      "15\n"
     ]
    }
   ],
   "source": [
    "def total(*numbers):\n",
    "    sum = 0\n",
    "    for n in numbers: # 전달받은 매개변수를 튜플로 처리\n",
    "        sum += n\n",
    "    return sum\n",
    "print(total(1,2,3)) # 3개의 인자 전달\n",
    "print(total(1,2,3,4,5)) # 5개의 인자 전달"
   ]
  },
  {
   "cell_type": "markdown",
   "id": "26289442",
   "metadata": {},
   "source": [
    "-\n",
    "    - 매개변수 **keywords로 표시되면 딕셔너리로 처리     "
   ]
  },
  {
   "cell_type": "code",
   "execution_count": 11,
   "id": "7cac42f3",
   "metadata": {},
   "outputs": [
    {
     "name": "stdout",
     "output_type": "stream",
     "text": [
      "Kennedy : 35-th president\n",
      "Obama : 44-th president\n",
      "Trump : 45-th president\n"
     ]
    }
   ],
   "source": [
    "def dicPresidents(**keyworks):\n",
    "    for i in keyworks.keys(): # 딕셔너리 키를 하나씩 처리\n",
    "        print(\"%s : %d-th president\" % (i, keyworks[i]))\n",
    "        \n",
    "dicPresidents(Kennedy=35, Obama=44, Trump=45) # (key=value) 형태로 인자 전달"
   ]
  },
  {
   "cell_type": "markdown",
   "id": "850b106e",
   "metadata": {},
   "source": [
    "# 함수 매개변수의 전달\n",
    "\n",
    "- 키워드를 이용한 매개변수 전달\n",
    "\n",
    "    - 매개변수의 위치가 아니라 키워드를 이용하여 매개변수"
   ]
  },
  {
   "cell_type": "code",
   "execution_count": 12,
   "id": "440fc8de",
   "metadata": {},
   "outputs": [
    {
     "name": "stdout",
     "output_type": "stream",
     "text": [
      "a= 4 b= 5 c= 3\n",
      "12\n",
      "a= 5 b= 2 c= 7\n",
      "14\n"
     ]
    }
   ],
   "source": [
    "def func(a, b=2, c=3): # a: 위치매개변수, b,c: 키워드 매개변수\n",
    "    print('a=',a, 'b=',b, 'c=',c)\n",
    "    return a + b + c\n",
    "print(func(4,5)) # 인자 위치에 의해 a=4, b=5로 전달\n",
    "print(func(5, c=7)) # 키워드 c를 이용한 전달. a=5, b=2, c=7 b는 기본값"
   ]
  },
  {
   "cell_type": "markdown",
   "id": "10cbb1a7",
   "metadata": {},
   "source": [
    "# 람다(lambda)함수\n",
    "\n",
    "- 람다(무명) 함수\n",
    "    - 이름이 없는 한 줄짜리 함수\n",
    "    - lambda parameters: expr < lambda 함수의 정의\n",
    "    - parameters는 매개변수, expr는 결과가 return되는 수식\n",
    "    - lambda x,y: x + y < 매개변수 x, y를 전달받아 x + y를 리턴"
   ]
  },
  {
   "cell_type": "code",
   "execution_count": 13,
   "id": "9eff62b0",
   "metadata": {},
   "outputs": [
    {
     "name": "stdout",
     "output_type": "stream",
     "text": [
      "정수의 합 : 30\n",
      "정수의 합 : 40\n"
     ]
    }
   ],
   "source": [
    "sum = lambda x, y: x + y # lambda 함수 정의\n",
    "print(\"정수의 합 :\", sum(10, 20)) # 10 + 20 을 반환\n",
    "print(\"정수의 합 :\", sum(20, 20)) # 20 + 20 을 반환"
   ]
  },
  {
   "cell_type": "markdown",
   "id": "c9afe5f8",
   "metadata": {},
   "source": [
    "- .\n",
    "    - 두 개 이상의 값을 리턴하려면 튜플, 리스트 사용\n",
    "    - lambda x, y: (x + y, x * y) < (x + y, x * y) 튜플을 반환\n",
    "    - 람다 함수의 호출\n",
    "\n",
    "```python\n",
    ">>> (lambda x,y: x+y)(1,2)\n",
    "3\n",
    "```"
   ]
  },
  {
   "cell_type": "markdown",
   "id": "a5df8548",
   "metadata": {},
   "source": [
    "# 재귀 함수\n",
    "\n",
    "- 재귀 함수(recursion function)\n",
    "\n",
    "    - 함수 내에서 자기 자신을 호출하는 함수\n",
    "\n",
    "    - 같은 동작을 반복할 때 지귀 함수 사용\n",
    "\n",
    "    - 함수가 종료되는 조건을 반드시 포함해야한다.\n",
    "\n",
    "    - factorial(n!)을 구하는 재귀 함수"
   ]
  },
  {
   "cell_type": "code",
   "execution_count": 14,
   "id": "b4772e52",
   "metadata": {},
   "outputs": [
    {
     "name": "stdout",
     "output_type": "stream",
     "text": [
      "120\n"
     ]
    }
   ],
   "source": [
    "def fact(n):\n",
    "    if n==1: #재귀 함수 종료 조건. n=0이면 종\n",
    "        return 1\n",
    "    else:\n",
    "        return n*fact(n-1) #n! = n x (n-1)! \n",
    "print(fact(5))"
   ]
  },
  {
   "cell_type": "markdown",
   "id": "e83ca25a",
   "metadata": {},
   "source": [
    "# 내장함수 \n",
    "\n",
    "- eval\n",
    "\n",
    "    - eval(expr,[globals, [locals]])\n",
    "\n",
    "    - 문자열로 표시된 expr의 계산 결과를 반환. 계산할 수 없으면 오류\n",
    "\n",
    "```python\n",
    ">>> eval('1+2*3')\n",
    "7\n",
    "```"
   ]
  },
  {
   "cell_type": "markdown",
   "id": "6c48720c",
   "metadata": {},
   "source": [
    "- int <> bin, oct, hex\n",
    "\n",
    "    - int(str, base=10)\n",
    "\n",
    "    - 문자열 str을 10진수로 변환\n",
    "\n",
    "```python\n",
    ">>> int('123')\n",
    "123\n",
    ">>> int('1010',2)\n",
    "10\n",
    "```\n"
   ]
  },
  {
   "cell_type": "markdown",
   "id": "ec3ed49a",
   "metadata": {},
   "source": [
    "- filter\n",
    "\n",
    "    - filter(func,seq)\n",
    "\n",
    "    - seq의 각 요소에 대해 func를 호출하여 결과 True인 요소만 모아서 iterable로 반환\n",
    "\n",
    "```python\n",
    ">>> list(filter(lambda x: len(x)>2, ['this', 'is', 'a', 'test']))  \n",
    "['this', 'test']\n",
    "```"
   ]
  },
  {
   "cell_type": "markdown",
   "id": "8152ee92",
   "metadata": {},
   "source": [
    "- map\n",
    "\n",
    "    - map(func, seq, ...)\n",
    "\n",
    "    - seq의 각 요소에 대해 func를 호출하여 실행하고 결과를 iterable로 반환"
   ]
  },
  {
   "cell_type": "code",
   "execution_count": 15,
   "id": "7180cf29",
   "metadata": {},
   "outputs": [
    {
     "name": "stdout",
     "output_type": "stream",
     "text": [
      "<map object at 0x000002C17B0E2200>\n"
     ]
    }
   ],
   "source": [
    "def Squares(n):\n",
    "    return n**2\n",
    "numbers = [1,3,5,9]\n",
    "#Squares 함수에 numbers 요소를 하나씩 대입\n",
    "print(map(Squares, numbers))"
   ]
  },
  {
   "cell_type": "markdown",
   "id": "0e9071e5",
   "metadata": {},
   "source": [
    "- ord (반대: chr)\n",
    "\n",
    "    - ord(ch) - ordinal의 약자 (순서가 있는 정수값)\n",
    "\n",
    "    - Ch에 대한 ASCII 코드 반환 (유니코드 문자)\n",
    "\n",
    "    - ord('A') > 65\n",
    "\n",
    "    - hex(ord(\"한\")) > 0xd55c\n"
   ]
  },
  {
   "cell_type": "markdown",
   "id": "8c1c7cc8",
   "metadata": {},
   "source": [
    "- repr\n",
    "\n",
    "    - repr(obj) (유니코드 문자도 가능)\n",
    "\n",
    "    - obj를 문자열로 변환\n",
    "\n",
    "    - repr(b'0011') > \"b'0011'\""
   ]
  },
  {
   "cell_type": "markdown",
   "id": "36d4d0ce",
   "metadata": {},
   "source": [
    "- round\n",
    "\n",
    "    - round(x, n=0)\n",
    "\n",
    "    - 실수 x를 소수점 아래 n자리로 반올림하여 반환\n",
    "\n",
    "```python\n",
    ">>> round(12.345, 1)\n",
    "12.3\n",
    ">>> round(12.345, 2)\n",
    "12.35\n",
    "```"
   ]
  },
  {
   "cell_type": "markdown",
   "id": "5feea940",
   "metadata": {},
   "source": [
    "- zip\n",
    "\n",
    "    - zip(seq, *seqs)\n",
    "\n",
    "    - seq 요소와 *seqs 요소의 튜플 쌍으로 만들어 리스트 iterable 반환"
   ]
  },
  {
   "cell_type": "code",
   "execution_count": 18,
   "id": "471f93e5",
   "metadata": {},
   "outputs": [
    {
     "name": "stdout",
     "output_type": "stream",
     "text": [
      "Peter Parker is actually Spiderman\n",
      "Clark Kent is actually Superman\n",
      "Wade Wilson is actually Deadpool\n",
      "Bruce Wayne is actually Batman\n",
      "[('Peter Parker', 'Spiderman'), ('Clark Kent', 'Superman'), ('Wade Wilson', 'Deadpool'), ('Bruce Wayne', 'Batman')]\n"
     ]
    }
   ],
   "source": [
    "names = ['Peter Parker', 'Clark Kent', 'Wade Wilson', 'Bruce Wayne']\n",
    "heroes = ['Spiderman', 'Superman', 'Deadpool', 'Batman']\n",
    "for name, hero in zip(names, heroes):\n",
    "    print(f'{name} is actually {hero}')\n",
    "print(list(zip(names, heroes)))\n"
   ]
  },
  {
   "cell_type": "markdown",
   "id": "aa360d61",
   "metadata": {},
   "source": [
    "# 타입이 있는 함수와 변수 정의\n",
    "\n",
    "## 변수의 타입, 함수의 반환 타입\n",
    "\n",
    "- 동적 변수 타입, 함수의 반환 타입이 기본\n",
    "\n",
    "    - 예 : 기본적으로 타입을 명시하지 않아도 알아서 타입을 추론"
   ]
  },
  {
   "cell_type": "code",
   "execution_count": 19,
   "id": "9e99e3e6",
   "metadata": {},
   "outputs": [],
   "source": [
    "def add(a, b):\n",
    "    return a + b\n",
    "def greet(name):\n",
    "    return f\"Hello, {name}!\"\n",
    "def get_list():\n",
    "    return [1, 2, 3]"
   ]
  },
  {
   "cell_type": "markdown",
   "id": "9f0e8504",
   "metadata": {},
   "source": [
    "- 명시적 변수 타입, 함수의 반환 타입이 기본\n",
    "\n",
    "    - 예: 정확한 계산이 필요할 경우에 타입힌트(hint)를 통해서 가독성과 유지보수성 향상"
   ]
  },
  {
   "cell_type": "code",
   "execution_count": 21,
   "id": "a3400540",
   "metadata": {},
   "outputs": [],
   "source": [
    "def add(a: int, b: int) -> int:\n",
    "    return a + b\n",
    "\n",
    "def greet(name: str) -> str:\n",
    "    return f\"Hello, {name}!\"\n",
    "\n",
    "def get_list() -> list:\n",
    "    return [1, 2, 3]"
   ]
  },
  {
   "cell_type": "code",
   "execution_count": null,
   "id": "68688454",
   "metadata": {},
   "outputs": [],
   "source": []
  }
 ],
 "metadata": {
  "kernelspec": {
   "display_name": ".venv (3.13.3)",
   "language": "python",
   "name": "python3"
  },
  "language_info": {
   "codemirror_mode": {
    "name": "ipython",
    "version": 3
   },
   "file_extension": ".py",
   "mimetype": "text/x-python",
   "name": "python",
   "nbconvert_exporter": "python",
   "pygments_lexer": "ipython3",
   "version": "3.13.3"
  }
 },
 "nbformat": 4,
 "nbformat_minor": 5
}
