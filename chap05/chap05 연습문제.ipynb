{
 "cells": [
  {
   "cell_type": "markdown",
   "id": "edd12c88",
   "metadata": {},
   "source": [
    "## chap05 연습문제\n",
    "\n",
    "학번 : 202110156\n",
    "\n",
    "이름 : 김민범   "
   ]
  },
  {
   "cell_type": "markdown",
   "id": "3923a0cf",
   "metadata": {},
   "source": [
    "1. 두 개의 매개변수 n, m을 전달받아 m x n개의 * 상자를 출력하는 프로그램을 함수로 작성\n"
   ]
  },
  {
   "cell_type": "code",
   "execution_count": 1,
   "id": "90d28ed0",
   "metadata": {},
   "outputs": [
    {
     "name": "stdout",
     "output_type": "stream",
     "text": [
      "****\n",
      "****\n"
     ]
    }
   ],
   "source": [
    "def make_box(n, m):\n",
    "    for _ in range(m):\n",
    "        print(\"*\" * n)\n",
    "\n",
    "# 실행 예시\n",
    "make_box(4, 2)\n",
    "# 출력:\n",
    "# ****\n",
    "# ****"
   ]
  },
  {
   "cell_type": "markdown",
   "id": "362ee865",
   "metadata": {},
   "source": [
    "2. 하나의 숫자를 전달받아 숫자의 자리 합을 구하는 함수를 작성\n",
    "\n",
    "예 : 123 > 1+2+3 = 6"
   ]
  },
  {
   "cell_type": "code",
   "execution_count": 2,
   "id": "f21ff5c1",
   "metadata": {},
   "outputs": [
    {
     "name": "stdout",
     "output_type": "stream",
     "text": [
      "6\n"
     ]
    }
   ],
   "source": [
    "def digit_sum(num):\n",
    "    return sum(int(ch) for ch in str(abs(num)))\n",
    "\n",
    "# 실행 예시\n",
    "print(digit_sum(123))  # 6|"
   ]
  },
  {
   "cell_type": "markdown",
   "id": "1a5e2a83",
   "metadata": {},
   "source": [
    "3. 두 개의 문자열이 서로 다른 처음 위치를 반환하는 함수를 작성. 두 개의 문자열이 같으면 -1을 반환"
   ]
  },
  {
   "cell_type": "code",
   "execution_count": 3,
   "id": "4033207e",
   "metadata": {},
   "outputs": [
    {
     "name": "stdout",
     "output_type": "stream",
     "text": [
      "2\n",
      "-1\n"
     ]
    }
   ],
   "source": [
    "def first_diff_index(a, b):\n",
    "    min_len = min(len(a), len(b))\n",
    "    for i in range(min_len):\n",
    "        if a[i] != b[i]:\n",
    "            return i\n",
    "    return -1 if len(a) == len(b) else min_len\n",
    "\n",
    "# 실행 예시\n",
    "print(first_diff_index(\"apple\", \"apricot\"))  # 2\n",
    "print(first_diff_index(\"hello\", \"hello\"))    # -1"
   ]
  },
  {
   "cell_type": "markdown",
   "id": "7b95c791",
   "metadata": {},
   "source": [
    "4. 숫자를 전달받아 그 수의 약수를 리스트로 반환하는 함수를 작성"
   ]
  },
  {
   "cell_type": "code",
   "execution_count": 4,
   "id": "2ca98e14",
   "metadata": {},
   "outputs": [
    {
     "name": "stdout",
     "output_type": "stream",
     "text": [
      "[1, 2, 4, 7, 14, 28]\n"
     ]
    }
   ],
   "source": [
    "def divisors(n):\n",
    "    if n == 0:\n",
    "        raise ValueError(\"0의 약수는 무한대입니다.\")\n",
    "    n_abs = abs(n)\n",
    "    result = []\n",
    "    for d in range(1, n_abs + 1):\n",
    "        if n_abs % d == 0:\n",
    "            result.append(d)\n",
    "    return result\n",
    "\n",
    "# 실행 예시\n",
    "print(divisors(28))  # [1, 2, 4, 7, 14, 28]"
   ]
  },
  {
   "cell_type": "markdown",
   "id": "bd07d391",
   "metadata": {},
   "source": [
    "5. 문자열과 하나의 문자를 전달받아 문자열에서 문자의 위치를 모두 찾아 리스트로 반환하는 함수를 작성"
   ]
  },
  {
   "cell_type": "code",
   "execution_count": 5,
   "id": "654b470a",
   "metadata": {},
   "outputs": [
    {
     "name": "stdout",
     "output_type": "stream",
     "text": [
      "[1, 3, 5]\n"
     ]
    }
   ],
   "source": [
    "def find_all_indices(s, ch):\n",
    "    if len(ch) != 1:\n",
    "        raise ValueError(\"한 글자만 입력해야 합니다.\")\n",
    "    return [i for i, c in enumerate(s) if c == ch]\n",
    "\n",
    "# 실행 예시\n",
    "print(find_all_indices(\"banana\", \"a\"))  # [1, 3, 5]"
   ]
  },
  {
   "cell_type": "markdown",
   "id": "2238f3d9",
   "metadata": {},
   "source": [
    "6. 재귀 함수를 이용하여 1부터 100까지의 합을 계산하는 프로그램"
   ]
  },
  {
   "cell_type": "code",
   "execution_count": 6,
   "id": "45ac11cb",
   "metadata": {},
   "outputs": [
    {
     "name": "stdout",
     "output_type": "stream",
     "text": [
      "5050\n"
     ]
    }
   ],
   "source": [
    "def sum_recursive(n):\n",
    "    if n <= 1:\n",
    "        return n\n",
    "    return n + sum_recursive(n - 1)\n",
    "\n",
    "# 실행 예시\n",
    "print(sum_recursive(100))  # 5050"
   ]
  }
 ],
 "metadata": {
  "kernelspec": {
   "display_name": ".venv (3.13.3)",
   "language": "python",
   "name": "python3"
  },
  "language_info": {
   "codemirror_mode": {
    "name": "ipython",
    "version": 3
   },
   "file_extension": ".py",
   "mimetype": "text/x-python",
   "name": "python",
   "nbconvert_exporter": "python",
   "pygments_lexer": "ipython3",
   "version": "3.13.3"
  }
 },
 "nbformat": 4,
 "nbformat_minor": 5
}
