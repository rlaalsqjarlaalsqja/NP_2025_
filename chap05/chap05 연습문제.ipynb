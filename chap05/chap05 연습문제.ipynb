{
 "cells": [
  {
   "cell_type": "markdown",
   "id": "edd12c88",
   "metadata": {},
   "source": [
    "## chap05 연습문제\n",
    "\n",
    "학번 : 202110156\n",
    "\n",
    "이름 : 김민범   "
   ]
  },
  {
   "cell_type": "markdown",
   "id": "3923a0cf",
   "metadata": {},
   "source": [
    "1. 두 개의 매개변수 n, m을 전달받아 m x n개의 * 상자를 출력하는 프로그램을 함수로 작성\n"
   ]
  },
  {
   "cell_type": "markdown",
   "id": "362ee865",
   "metadata": {},
   "source": [
    "2. 하나의 숫자를 전달받아 숫자의 자리 합을 구하는 함수를 작성\n",
    "\n",
    "예 : 123 > 1+2+3 = 6"
   ]
  },
  {
   "cell_type": "markdown",
   "id": "1a5e2a83",
   "metadata": {},
   "source": [
    "3. 두 개의 문자열이 서로 다른 처음 위치를 반환하는 함수를 작성. 두 개의 문자열이 같으면 -1을 반환"
   ]
  },
  {
   "cell_type": "markdown",
   "id": "7b95c791",
   "metadata": {},
   "source": [
    "4. 숫자를 전달받아 그 수의 약수를 리스트로 반환하는 함수를 작성"
   ]
  },
  {
   "cell_type": "markdown",
   "id": "bd07d391",
   "metadata": {},
   "source": [
    "5. 문자열과 하나의 문자를 전달받아 문자열에서 문자의 위치를 모두 찾아 리스트로 반환하는 함수를 작성"
   ]
  },
  {
   "cell_type": "markdown",
   "id": "2238f3d9",
   "metadata": {},
   "source": [
    "6. 재귀 함수를 이용하여 1부터 100까지의 합을 계산하는 프로그램"
   ]
  },
  {
   "cell_type": "markdown",
   "id": "bc86a898",
   "metadata": {},
   "source": []
  }
 ],
 "metadata": {
  "language_info": {
   "name": "python"
  }
 },
 "nbformat": 4,
 "nbformat_minor": 5
}
