{
 "cells": [
  {
   "cell_type": "markdown",
   "id": "0bcfbdd0",
   "metadata": {},
   "source": [
    "## 4장 연습문제\n",
    "\n",
    "학번 : 202110156\n",
    "\n",
    "이름 : 김민범   "
   ]
  },
  {
   "cell_type": "markdown",
   "id": "b26df159",
   "metadata": {},
   "source": [
    "1. for 루프를 이용하여 다음과 같은 리스트를 생성해라.\n",
    "\n",
    "0~49까지의 수로 구성되는 리스트\n",
    "\n",
    "1~50까지의 수의 제곱으로 구성되는 리스트"
   ]
  },
  {
   "cell_type": "code",
   "execution_count": null,
   "id": "6c414810",
   "metadata": {},
   "outputs": [
    {
     "name": "stdout",
     "output_type": "stream",
     "text": [
      "[0, 1, 2, 3, 4, 5, 6, 7, 8, 9, 10, 11, 12, 13, 14, 15, 16, 17, 18, 19, 20, 21, 22, 23, 24, 25, 26, 27, 28, 29, 30, 31, 32, 33, 34, 35, 36, 37, 38, 39, 40, 41, 42, 43, 44, 45, 46, 47, 48, 49]\n"
     ]
    }
   ],
   "source": [
    "#0~49까지의 수\n",
    "nums = [] # 빈 리스트 생성\n",
    "for i in range(50): # 0~49까지 반복\n",
    "    nums.append(i) # 리스트에 추가\n",
    "print(nums)\n",
    "\n",
    "## nums = [i for i in range(50)]"
   ]
  },
  {
   "cell_type": "code",
   "execution_count": null,
   "id": "d622e303",
   "metadata": {},
   "outputs": [
    {
     "name": "stdout",
     "output_type": "stream",
     "text": [
      "[1, 4, 9, 16, 25, 36, 49, 64, 81, 100, 121, 144, 169, 196, 225, 256, 289, 324, 361, 400, 441, 484, 529, 576, 625, 676, 729, 784, 841, 900, 961, 1024, 1089, 1156, 1225, 1296, 1369, 1444, 1521, 1600, 1681, 1764, 1849, 1936, 2025, 2116, 2209, 2304, 2401, 2500]\n"
     ]
    }
   ],
   "source": [
    "# 1~50까지의 수\n",
    "squares = []                # 빈 리스트 생성\n",
    "for i in range(1, 51):      # range(1, 51) → 1부터 50까지\n",
    "    squares.append(i ** 2)  # i의 제곱을 추가\n",
    "print(squares)\n",
    "\n",
    "## squares = [i**2 for i in range(1, 51)]"
   ]
  },
  {
   "cell_type": "markdown",
   "id": "e69b9353",
   "metadata": {},
   "source": [
    "2. 크기가 같은 두 개의 리스트 L,M을 생성하고 두 리스트의 각 요소 합으로 구성되는 새로운 리스트를 생성하라. 예를 들어 L=[1,2,3] 이고 M = [4,5,6]이면 [5,7,9]인 리스트 생성"
   ]
  },
  {
   "cell_type": "code",
   "execution_count": 9,
   "id": "2a64d2ad",
   "metadata": {},
   "outputs": [
    {
     "name": "stdout",
     "output_type": "stream",
     "text": [
      "for 루프 결과: [5, 7, 9]\n"
     ]
    }
   ],
   "source": [
    "L = [1,2,3]\n",
    "M = [4,5,6]\n",
    "\n",
    "result = []                  # 결과를 담을 빈 리스트\n",
    "for i in range(len(L)):      # L과 M의 크기가 같으므로 인덱스 기반 반복\n",
    "    result.append(L[i] + M[i])\n",
    "print(\"for 루프 결과:\", result)"
   ]
  },
  {
   "cell_type": "markdown",
   "id": "664048e0",
   "metadata": {},
   "source": [
    "3. 사용자로부터 5개의 숫자를 문자열로 입력 받아 각 숫자를 +로 연결한 문자열을 생성하라. 예를 들어  2,5,11,33,55를 입력하면 '2+5+11+33+55'를 생성하라."
   ]
  },
  {
   "cell_type": "code",
   "execution_count": 10,
   "id": "2df4ed88",
   "metadata": {},
   "outputs": [
    {
     "name": "stdout",
     "output_type": "stream",
     "text": [
      "결과: 1+2+3+4+5\n"
     ]
    }
   ],
   "source": [
    "numbers = input(\"5 개의 숫자를 쉼표로 구분하여 입력하세요 : \")\n",
    "\n",
    "# split() → 입력 문자열을 쉼표 기준으로 나눠 리스트로 변환\n",
    "num_list = numbers.split(\",\")\n",
    "# join() → 리스트의 요소들을 \"+\"로 이어붙이기\n",
    "result = \"+\".join(num_list)\n",
    "# 결과 출력\n",
    "print(\"결과:\", result)\n"
   ]
  }
 ],
 "metadata": {
  "kernelspec": {
   "display_name": ".venv (3.13.3)",
   "language": "python",
   "name": "python3"
  },
  "language_info": {
   "codemirror_mode": {
    "name": "ipython",
    "version": 3
   },
   "file_extension": ".py",
   "mimetype": "text/x-python",
   "name": "python",
   "nbconvert_exporter": "python",
   "pygments_lexer": "ipython3",
   "version": "3.13.3"
  }
 },
 "nbformat": 4,
 "nbformat_minor": 5
}
