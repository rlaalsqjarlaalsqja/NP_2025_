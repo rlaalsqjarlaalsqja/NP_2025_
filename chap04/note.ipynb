{
 "cells": [
  {
   "cell_type": "markdown",
   "id": "c316e691",
   "metadata": {},
   "source": [
    "## 4장 파이썬 자료 구조\n",
    "\n",
    "날짜 : 2025.9.9\n",
    "\n"
   ]
  },
  {
   "cell_type": "markdown",
   "id": "72d9fec0",
   "metadata": {},
   "source": [
    "# 자료 구조란?\n",
    "\n",
    "자료를 표현하고 처리하기 위해 사용되는 구조\n",
    "\n",
    "자료를 효율적으로 처리하고 저장하는데 사용\n",
    "\n",
    "파이썬에서 사용되는 기본 자료 구조는 문자열, 리스트, 튜플, 딕셔너리, 집합이 있음"
   ]
  },
  {
   "cell_type": "markdown",
   "id": "29d1131b",
   "metadata": {},
   "source": [
    "# 문자열\n",
    "\n",
    "문자열의 구조\n",
    "\n",
    "다수의 문자를 표현하기 위한 자료구조\n",
    "\n",
    "문자열이름 = \"글씨들\" (또는 '')\n",
    "\n",
    "\" 또는 ' 로 둘러쌈\n",
    "\n",
    "'''(\"\"\") 부터 '''(\"\"\")까지 문자: 문자열이 두 줄 이상일 때 주로 사용\n"
   ]
  },
  {
   "cell_type": "markdown",
   "id": "4cd744a2",
   "metadata": {},
   "source": [
    "문자열 요소(문자)를 개별적으로 사용하기-index\n",
    "```Python\n",
    ">>> word='Python'\n",
    ">>> word[0]\n",
    "'P'\n",
    ">>> word[5]\n",
    "'n'\n",
    ">>> word[-1]\n",
    "'n'\n",
    ">>> word[-6]\n",
    "'P'\n",
    "```"
   ]
  },
  {
   "cell_type": "markdown",
   "id": "b3d1b2cb",
   "metadata": {},
   "source": [
    "문자열 슬라이싱(잘라내기)\n",
    "```Python\n",
    ">>> word = 'Python'\n",
    ">>> word[0:2]\n",
    "'Py'\n",
    ">>> word[2:5]\n",
    "'tho'\n",
    ">>> word[:2]\n",
    "'Py'\n",
    ">>> word[4:]\n",
    "'on'\n",
    ">>> word[-2:]\n",
    "'on'\n",
    ">>> word[:2]\n",
    "'Py'\n",
    ">>> word[2:]\n",
    "'thon'\n",
    ">>> word[:2]+word[2:]\n",
    "'Python'\n",
    "```\n"
   ]
  },
  {
   "cell_type": "markdown",
   "id": "b84b8f57",
   "metadata": {},
   "source": [
    "문자열 인덱싱과 슬라이싱 오류\n",
    "```Python\n",
    ">>> word[42]\n",
    "Traceback (most recent call last):\n",
    "  File \"<python-input-9>\", line 1, in <module>\n",
    "    word[42]\n",
    "    ~~~~^^^^\n",
    "IndexError: string index out of range\n",
    "```\n",
    "```Python\n",
    ">>> word[4:42]\n",
    "'on'\n",
    ">>> word[42:]\n",
    "''\n",
    "```"
   ]
  },
  {
   "cell_type": "markdown",
   "id": "277b3a08",
   "metadata": {},
   "source": [
    "문자열은 수정 불가-immutable\n",
    "\n",
    "```Python\n",
    ">>> word[0] = 'J'\n",
    "Traceback (most recent call last):\n",
    "  File \"<python-input-12>\", line 1, in <module>\n",
    "    word[0] = 'J'\n",
    "    ~~~~^^^\n",
    "TypeError: 'str' object does not support item assignment\n",
    "```\n",
    "\n"
   ]
  },
  {
   "cell_type": "markdown",
   "id": "c1a44353",
   "metadata": {},
   "source": [
    "슬라이싱을 이용하여 새로운 문자열 만들기\n",
    "\n",
    "```python\n",
    ">>> word = 'Python'\n",
    ">>> word2 = 'J' + word[1:]\n",
    ">>> word2\n",
    "'Jython'\n",
    "```\n"
   ]
  },
  {
   "cell_type": "markdown",
   "id": "27f553b3",
   "metadata": {},
   "source": [
    "문자열 길이 확인 - len()\n",
    "\n",
    "```python\n",
    ">>> s = 'smiles'\n",
    ">>> len(s)\n",
    "6\n",
    "```"
   ]
  },
  {
   "cell_type": "markdown",
   "id": "9291bedd",
   "metadata": {},
   "source": [
    "index를 이용하여 문자열의 문자를 역순으로 만들기"
   ]
  },
  {
   "cell_type": "code",
   "execution_count": 3,
   "id": "90a75fbc",
   "metadata": {},
   "outputs": [
    {
     "name": "stdout",
     "output_type": "stream",
     "text": [
      "Reversed string : 11111\n"
     ]
    }
   ],
   "source": [
    "##변수 초기화 부분##\n",
    "outStr=\"\" #출력문자열(빈문자열)\n",
    "count, i = 0, 0\n",
    "\n",
    "##메인 코드 부분##\n",
    "inStr = input(\"Type string:\")\n",
    "count = len(inStr)\n",
    "\n",
    "for i in range(0, count):\n",
    "    outStr += inStr[count-(i+1)]\n",
    "print(\"Reversed string : %s\" % outStr)"
   ]
  },
  {
   "cell_type": "markdown",
   "id": "1587abae",
   "metadata": {},
   "source": [
    "문자열에서 문자열 조사하기 - in/not in 연산자(멤버연산자)\n",
    "```python\n",
    ">>> 'a' in 'cat'\n",
    "True\n",
    ">>> 'a' not in 'can'\n",
    "False\n",
    "```"
   ]
  },
  {
   "cell_type": "markdown",
   "id": "3563b094",
   "metadata": {},
   "source": [
    "문자열과 메소드 - dir(str), help(str.method)\n",
    "\n",
    "파이썬은 객체지향 언어이므로 객체(object)가 많이 사용된다.\n",
    "\n",
    "객체는 변수와 함수를 묶은 것이다. 문자열도 객체다.\n",
    "\n",
    "객체와 관련된 함수를 메소드라 하며 객체.함수()로 호출한다."
   ]
  },
  {
   "cell_type": "markdown",
   "id": "317f0e45",
   "metadata": {},
   "source": [
    "문자열 구성 파악하기"
   ]
  },
  {
   "cell_type": "code",
   "execution_count": 4,
   "id": "6f81548d",
   "metadata": {},
   "outputs": [
    {
     "data": {
      "text/plain": [
       "False"
      ]
     },
     "execution_count": 4,
     "metadata": {},
     "output_type": "execute_result"
    }
   ],
   "source": [
    "'123'.isdigit()\n",
    "'abcABC'.isalpha()\n",
    "'Ab122'.isalnum()\n",
    "'AB'.isupper()\n",
    "'ab'.islower()\n",
    "''.isspace()"
   ]
  },
  {
   "cell_type": "markdown",
   "id": "e7899401",
   "metadata": {},
   "source": [
    "문자열을 대소문자로 변환하기"
   ]
  },
  {
   "cell_type": "code",
   "execution_count": 5,
   "id": "86ea601b",
   "metadata": {},
   "outputs": [
    {
     "data": {
      "text/plain": [
       "'Python Programming Is Easy!.'"
      ]
     },
     "execution_count": 5,
     "metadata": {},
     "output_type": "execute_result"
    }
   ],
   "source": [
    "str = 'Python programming is easy!.'\n",
    "str.upper()\n",
    "str.lower()\n",
    "str.swapcase()\n",
    "str.title()"
   ]
  },
  {
   "cell_type": "markdown",
   "id": "5428ad5d",
   "metadata": {},
   "source": [
    "문자열 찾기\n",
    "```Python\n",
    ">>> str = 'Python programming is easy!'\n",
    ">>> str.count('i')\n",
    "2\n",
    ">>> str.find('o')\n",
    "4\n",
    ">>> str.rfind('o')\n",
    "9\n",
    ">>> str.index('on')\n",
    "4\n",
    "```"
   ]
  },
  {
   "cell_type": "markdown",
   "id": "bffc8d81",
   "metadata": {},
   "source": [
    "문자열 분리하기\n",
    "\n",
    "```python\n",
    ">>> x = 'a bc'\n",
    ">>> x.split()\n",
    "['a', 'bc']\n",
    ">>> x.split('b')\n",
    "['a ', 'c']\n",
    "```\n"
   ]
  },
  {
   "cell_type": "markdown",
   "id": "69e53ae1",
   "metadata": {},
   "source": [
    "문자열에서 공백 제거하기\n",
    "\n",
    "```python\n",
    ">>> str = 'hello'\n",
    ">>> str.strip()\n",
    "'hello'\n",
    ">>> str\n",
    "'hello'\n",
    ">>> str.rstrip()\n",
    "'hello'\n",
    ">>> str.lstrip()\n",
    "'hello'\n",
    "```"
   ]
  },
  {
   "cell_type": "markdown",
   "id": "bd87795f",
   "metadata": {},
   "source": [
    "문자열 결합하기\n",
    "\n",
    "```python\n",
    ">>> '*'.join('hello')\n",
    "'h*e*l*l*o'\n",
    "```"
   ]
  },
  {
   "cell_type": "markdown",
   "id": "a7e60e96",
   "metadata": {},
   "source": [
    "문자열 채우기\n",
    "\n",
    "```python\n",
    ">>> '12'.zfill(5)\n",
    "'00012'\n",
    "```"
   ]
  },
  {
   "cell_type": "markdown",
   "id": "841f563c",
   "metadata": {},
   "source": [
    "문자열 정렬하기\n",
    "\n",
    "```python\n",
    ">>> 'he'.rjust(5)\n",
    "'   he'\n",
    ">>> 'he'.ljust(5)\n",
    "'he   '\n",
    ">>> 'he'.center(5)\n",
    "'  he '\n",
    "```\n"
   ]
  },
  {
   "cell_type": "markdown",
   "id": "03451aa3",
   "metadata": {},
   "source": [
    "# 리스트"
   ]
  },
  {
   "cell_type": "markdown",
   "id": "a205d84f",
   "metadata": {},
   "source": [
    "리스트 : 리스트는 여러 개의 데이터를 하나의 이름으로 저장하는 자료구조\n",
    "\n",
    "리스트이름 = [항목1, 항목2, ...]\n",
    "\n",
    "```python\n",
    ">>> odd = [1, 3, 5, 7, 9]\n",
    ">>> squares = [1, 4, 9, 16, 25]\n",
    ">>> squares\n",
    "[1, 4, 9, 16, 25]\n",
    ">>> empty = []\n",
    ">>> empty\n",
    "[]\n",
    ">>> a = [1, 'hello', 2, 'world', 1.23]\n",
    "```"
   ]
  },
  {
   "cell_type": "markdown",
   "id": "1f1395f9",
   "metadata": {},
   "source": [
    "리스트의 인덱싱(요소 접근하기)과 슬라이싱(잘라내기)\n",
    "\n",
    "```python\n",
    ">>> squares = [1, 4, 9, 16, 25]\n",
    ">>> squares[0]\n",
    "1\n",
    ">>> squares[-1]\n",
    "25\n",
    ">>> squares[0:3]\n",
    "[1, 4, 9]\n",
    ">>> squares[-3:]\n",
    "[9, 16, 25]\n",
    "```"
   ]
  },
  {
   "cell_type": "markdown",
   "id": "641345d0",
   "metadata": {},
   "source": [
    "리스트 합치기\n",
    "\n",
    "```python\n",
    ">>> squares + [36, 49, 64, 81, 100]\n",
    "[1, 4, 9, 16, 25, 36, 49, 64, 81, 100]\n",
    ">>> a = [1, 2, 3]\n",
    ">>> b = [4, 5, 6]\n",
    ">>> a + b\n",
    "[1, 2, 3, 4, 5, 6]\n",
    "```"
   ]
  },
  {
   "cell_type": "markdown",
   "id": "3a771eac",
   "metadata": {},
   "source": [
    "리스트의 요소 수정\n",
    "\n",
    "```python\n",
    ">>> cubes = [1, 8, 27, 65, 125]\n",
    ">>> 4 ** 3\n",
    "64\n",
    ">>> cubes[3] = 64\n",
    ">>> cubes\n",
    "[1, 8, 27, 64, 125]\n",
    "```"
   ]
  },
  {
   "cell_type": "markdown",
   "id": "f3b14d21",
   "metadata": {},
   "source": [
    "리스트 마지막에 요소 추가하기\n",
    "\n",
    "```python\n",
    ">>> cubes.append(216)\n",
    ">>> cubes.append(7 ** 3)\n",
    ">>> cubes\n",
    "[1, 8, 27, 64, 125, 216, 343]\n",
    "```"
   ]
  },
  {
   "cell_type": "markdown",
   "id": "5dc96206",
   "metadata": {},
   "source": [
    "리스트의 요소 수정\n",
    "\n",
    "```python\n",
    ">>> letters = ['a', 'b', 'c', 'd', 'e', 'f', 'g']\n",
    ">>> letters\n",
    "['a', 'b', 'c', 'd', 'e', 'f', 'g']\n",
    ">>> letters[2:5] = ['C','D','E']\n",
    ">>> letters\n",
    "['a', 'b', 'C', 'D', 'E', 'f', 'g']\n",
    ">>> letters[2:5] = []\n",
    ">>> letters\n",
    "['a', 'b', 'f', 'g']\n",
    ">>> letters[:] =[]\n",
    ">>> letters\n",
    "[]\n",
    "```"
   ]
  },
  {
   "cell_type": "markdown",
   "id": "386bd405",
   "metadata": {},
   "source": [
    "중첩 리스트 \n",
    "\n",
    "```python\n",
    ">>> a = ['a','b','c']\n",
    ">>> n = [1,2,3]\n",
    ">>> x = [a,n]\n",
    ">>> x\n",
    "[['a', 'b', 'c'], [1, 2, 3]]\n",
    ">>> x[0]\n",
    "['a', 'b', 'c']\n",
    ">>> x[0][1]\n",
    "'b'\n",
    "```"
   ]
  },
  {
   "cell_type": "markdown",
   "id": "bf870bb1",
   "metadata": {},
   "source": [
    "2차원 리스트\n",
    "\n",
    "```python\n",
    ">>> list2d = [[1,2,3],[4,5,6],[7,8,9]]\n",
    ">>> list2d[0][0]\n",
    "1\n",
    ">>> list2d[2][2]\n",
    "9\n",
    "```"
   ]
  },
  {
   "cell_type": "markdown",
   "id": "1c5bc3a8",
   "metadata": {},
   "source": [
    "내장 함수를 이용한 리스트 다루기\n",
    "\n",
    "리스트 길이 알아내기\n",
    "\n",
    "```python\n",
    ">>> letters = ['a','b','c','d']\n",
    ">>> len(letters)\n",
    "4\n",
    "```"
   ]
  },
  {
   "cell_type": "markdown",
   "id": "3dc517cd",
   "metadata": {},
   "source": [
    "리스트 요소 합, 최소값, 최대값 구하기\n",
    "\n",
    "```python\n",
    ">>> num = [1,2,3,4,5]\n",
    ">>> sum(num)\n",
    "15\n",
    ">>> min(num)\n",
    "1\n",
    ">>> max(num)\n",
    "5\n",
    "```"
   ]
  },
  {
   "cell_type": "markdown",
   "id": "81923488",
   "metadata": {},
   "source": [
    "-리스트 메소드\n",
    "\n",
    "*sort(self, /, , key=None, reverse=False)\n",
    "\n",
    "리스트를 오름차순으로 정렬하고 None을 반환합니다.\n",
    "\n",
    "정렬은 제자리(in-place)에서 이루어지며(즉, 리스트 자체가 변경됨), 안정적(stable)입니다(동일한 값의 순서가 유지됨).\n",
    "\n",
    "key 함수가 주어지면, 각 리스트 항목에 한 번씩 적용하여 그 함수의 값에 따라 오름차순 또는 내림차순으로 정렬합니다.\n",
    "\n",
    "reverse 플래그를 True로 설정하면 내림차순으로 정렬합니다"
   ]
  },
  {
   "cell_type": "markdown",
   "id": "ec52ad0d",
   "metadata": {},
   "source": [
    "-리스트 요소 순서 나열"
   ]
  },
  {
   "cell_type": "code",
   "execution_count": 7,
   "id": "c5559a34",
   "metadata": {},
   "outputs": [
    {
     "name": "stdout",
     "output_type": "stream",
     "text": [
      "['bus', 'sedan', 'taxi', 'truck']\n",
      "['truck', 'taxi', 'sedan', 'bus']\n",
      "Here is the original list:\n",
      "['truck', 'taxi', 'sedan', 'bus']\n",
      "\n",
      "Here is the sorted list:\n",
      "['bus', 'sedan', 'taxi', 'truck']\n",
      "\n",
      "Here is the original list again:\n",
      "['truck', 'taxi', 'sedan', 'bus']\n"
     ]
    }
   ],
   "source": [
    "cars = ['taxi', 'sedan', 'bus', 'truck']\n",
    "cars.sort() #오름차순으로 배열\n",
    "print(cars)\n",
    "cars.sort(reverse=True) #역순 배열\n",
    "print(cars)\n",
    "print(\"Here is the original list:\")\n",
    "print(cars)\n",
    "print(\"\\nHere is the sorted list:\")\n",
    "print(sorted(cars)) #오름차순으로 배열한 리스트를 따로 생성\n",
    "print(\"\\nHere is the original list again:\")\n",
    "print(cars)"
   ]
  },
  {
   "cell_type": "markdown",
   "id": "b5763ee7",
   "metadata": {},
   "source": [
    "-리스트 역순으로 출력하기"
   ]
  },
  {
   "cell_type": "code",
   "execution_count": 8,
   "id": "2781f465",
   "metadata": {},
   "outputs": [
    {
     "name": "stdout",
     "output_type": "stream",
     "text": [
      "['taxi', 'sedan', 'bus', 'truck ']\n",
      "['truck ', 'bus', 'sedan', 'taxi']\n"
     ]
    }
   ],
   "source": [
    "cars = ['taxi', 'sedan', 'bus', 'truck ']\n",
    "print(cars)\n",
    "cars.reverse() #원래 리스트의 요소 순서를 거꾸로 배열\n",
    "print(cars)"
   ]
  },
  {
   "cell_type": "markdown",
   "id": "2863cb5b",
   "metadata": {},
   "source": [
    "리스트 관련 에러"
   ]
  },
  {
   "cell_type": "code",
   "execution_count": 10,
   "id": "f4561029",
   "metadata": {},
   "outputs": [
    {
     "ename": "SyntaxError",
     "evalue": "invalid syntax. Perhaps you forgot a comma? (716210535.py, line 3)",
     "output_type": "error",
     "traceback": [
      "  \u001b[36mCell\u001b[39m\u001b[36m \u001b[39m\u001b[32mIn[10]\u001b[39m\u001b[32m, line 3\u001b[39m\n\u001b[31m    \u001b[39m\u001b[31mTraceback (most recent call last):\u001b[39m\n               ^\n\u001b[31mSyntaxError\u001b[39m\u001b[31m:\u001b[39m invalid syntax. Perhaps you forgot a comma?\n"
     ]
    }
   ],
   "source": [
    "motorcycles = ['honda', 'yamaha', 'suzuki']\n",
    "print(motorcycles[3])\n",
    "Traceback (most recent call last):\n",
    "File \"motorcycles.py\", line 3, in <module>\n",
    "print(motorcycles[3])\n",
    "IndexError: list index out of range"
   ]
  },
  {
   "cell_type": "markdown",
   "id": "3f903f52",
   "metadata": {},
   "source": [
    "  Cell In[9], line 3\n",
    "    Traceback (most recent call last):\n",
    "               ^\n",
    "SyntaxError: invalid syntax. Perhaps you forgot a comma?"
   ]
  },
  {
   "cell_type": "markdown",
   "id": "ab282187",
   "metadata": {},
   "source": [
    "리스트 내포란?\n",
    "\n",
    "리스트 안에 for문을 포함하여 한 줄로 리스트를 만드는 방법\n",
    "\n",
    "[표현식 for 항목 in 반복객체]\n",
    "\n",
    "[표현식 for 항목 in 반복객체 if 조건문]\n",
    "\n",
    "[표현식 if 조건문 else 문장 for 항목 in 반복객체]\n",
    "\n"
   ]
  },
  {
   "cell_type": "code",
   "execution_count": 12,
   "id": "3ff8a57f",
   "metadata": {},
   "outputs": [
    {
     "data": {
      "text/plain": [
       "[0, 1, 4, 9, 8, 25, 12, 49, 16, 81]"
      ]
     },
     "execution_count": 12,
     "metadata": {},
     "output_type": "execute_result"
    }
   ],
   "source": [
    "#a 원소의 3배수로 구성되는 리스트 생성\n",
    "a = [1, 2, 3, 4]\n",
    "result = [num*3 for num in a]\n",
    "#a의 원소 중 짝수인 원소의 3배수로 구성되는 리스트 생성\n",
    "result = [num*3 for num in a if num % 2 == 0]\n",
    "#짝수의 2배수나 홀수의 제곱을 원소로 갖는 리스트 생성\n",
    "[i*2 if i%2 == 0 else i**2 for i in range(10) ]"
   ]
  },
  {
   "cell_type": "markdown",
   "id": "a6becd6e",
   "metadata": {
    "vscode": {
     "languageId": "bat"
    }
   },
   "source": [
    "튜플\n",
    "\n",
    "튜플은 리스트와 비슷한 자료구조이나 요소 값을 변경할 수 없다(immutable)\n",
    "\n",
    "튜플 만들기\n",
    "\n",
    "```python\n",
    ">>> t1 = (1,2,3) # ()속에 요소를 나열하여 만든다\n",
    ">>> t1\n",
    "(1, 2, 3)\n",
    ">>> t2 =1,2,3 # ()없이 요소를 나열해서 만들 수도 있다. 패킹\n",
    ">>> t2\n",
    "(1, 2, 3)\n",
    ">>> t3 = 1, # 요소가 한 개인 경우 ,를 붙인다.\n",
    ">>> t3\n",
    "(1,)\n",
    ">>> t4 = tuple() # 빈 튜플 생성\n",
    "```"
   ]
  },
  {
   "cell_type": "markdown",
   "id": "f5a1ba15",
   "metadata": {},
   "source": [
    "튜플 요소 접근하기(인덱싱과 슬라이싱)\n",
    "\n",
    "```python\n",
    ">>> t1 = (1,2,3)\n",
    ">>> t1[1]\n",
    "2\n",
    ">>> t1[1:3]\n",
    "(2, 3)\n",
    "```"
   ]
  },
  {
   "cell_type": "markdown",
   "id": "ab2f2782",
   "metadata": {},
   "source": [
    "튜플 연산\n",
    "\n",
    "```python\n",
    ">>> t1 = (1,2,3)\n",
    ">>> t2 = ('a','b')\n",
    ">>> t1 + t2\n",
    "(1, 2, 3, 'a', 'b')\n",
    ">>> t1 * 2\n",
    "(1, 2, 3, 1, 2, 3)\n",
    "```"
   ]
  },
  {
   "cell_type": "markdown",
   "id": "8502743d",
   "metadata": {},
   "source": [
    "튜플과 리스트 상호 변환\n",
    "\n",
    "```python\n",
    ">>> T1=(1,2,3)\n",
    ">>> L1=list(T1)\n",
    ">>> L1.append(4)\n",
    ">>> T1=tuple(L1)\n",
    ">>> T1\n",
    "(1, 2, 3, 4)\n",
    "```"
   ]
  },
  {
   "cell_type": "markdown",
   "id": "0a763f90",
   "metadata": {},
   "source": [
    "튜플 언패킹\n",
    "\n",
    "```python\n",
    ">>> a,b,c = (1,2,3)\n",
    ">>> a\n",
    "1\n",
    ">>> b\n",
    "2\n",
    ">>> c\n",
    "3\n",
    "```"
   ]
  },
  {
   "cell_type": "markdown",
   "id": "e9a43344",
   "metadata": {},
   "source": [
    "딕셔너리\n",
    "\n",
    "키(key) : 값(value)로 구성된느 자료 구조\n",
    "\n",
    "키는 정수, 실수, 문자열, 튜플\n",
    "\n",
    "값은 임의의 데이터형"
   ]
  },
  {
   "cell_type": "markdown",
   "id": "fcd2cc66",
   "metadata": {},
   "source": [
    "딕셔너리 생성\n",
    "\n",
    "```python\n",
    ">>> height = {'Jun':174, 'Kim':170, 'Lee':165}\n",
    ">>> height\n",
    "{'Jun': 174, 'Kim': 170, 'Lee': 165}\n",
    ">>> \n",
    ">>> test = dict()\n",
    ">>> test\n",
    "{}\n",
    "```"
   ]
  },
  {
   "cell_type": "markdown",
   "id": "49ab8ee5",
   "metadata": {},
   "source": [
    "딕셔너리 key 값 조사하기\n",
    "\n",
    "```python\n",
    ">>> height['Kim']\n",
    "170\n",
    "```"
   ]
  },
  {
   "cell_type": "markdown",
   "id": "a826c579",
   "metadata": {},
   "source": [
    "딕셔너리 키 조사\n",
    "\n",
    "```python\n",
    ">>> height = {'Jun':174, 'Kim':170, 'Lee':165}\n",
    ">>> 'Kim' in height\n",
    "True\n",
    "```"
   ]
  },
  {
   "cell_type": "markdown",
   "id": "cb7021c2",
   "metadata": {},
   "source": [
    "딕셔너리 요소 수정하기\n",
    "\n",
    "```python\n",
    ">>> height['Lee'] =  180\n",
    ">>> height\n",
    "{'Jun': 174, 'Kim': 170, 'Lee': 180}\n",
    "```\n"
   ]
  },
  {
   "cell_type": "markdown",
   "id": "87e841b2",
   "metadata": {},
   "source": [
    "딕셔너리 요소 추가하기\n",
    "\n",
    "```python\n",
    ">>> height['Ihm'] = 168\n",
    ">>> height\n",
    "{'Jun': 174, 'Kim': 170, 'Lee': 180, 'Ihm': 168}\n",
    "```"
   ]
  },
  {
   "cell_type": "markdown",
   "id": "8b74d039",
   "metadata": {},
   "source": [
    "딕셔너리 키, 값, 요소 뽑아내기\n",
    "```python\n",
    ">>> height.keys() # 키 뽑아내기\n",
    "dict_keys(['Jun', 'Kim', 'Lee', 'Ihm']) #iterable(반복객체)이 반환됨\n",
    ">>> height.values() # 값 뽑아내기\n",
    "dict_values([174, 170, 180, 168])\n",
    ">>> height.items() # 요소를 튜플로 분리하기\n",
    "dict_items([('Jun', 174), ('Kim', 170), ('Lee', 180), ('Ihm', 168)])\n",
    "\n",
    "# 뽑아낸 키를 리스트로 반환하기\n",
    ">>> dict_keys = height.keys()\n",
    ">>> keys_list = list(dict_keys)\n",
    ">>> keys_list\n",
    "['Jun', 'Kim', 'Lee', 'Ihm']\n",
    "```"
   ]
  },
  {
   "cell_type": "markdown",
   "id": "e195e946",
   "metadata": {},
   "source": [
    "딕셔너리 요소 제거하기 \n",
    "```python\n",
    ">>> height.pop('Ihm')\n",
    "168\n",
    ">>> height\n",
    "{'Jun': 174, 'Kim': 170, 'Lee': 180}\n",
    "```"
   ]
  },
  {
   "cell_type": "markdown",
   "id": "d2f8e2eb",
   "metadata": {},
   "source": [
    "딕셔너리 지우기\n",
    "\n",
    "```python\n",
    ">>> height.pop('Ihm')\n",
    "168\n",
    ">>> height\n",
    "{'Jun': 174, 'Kim': 170, 'Lee': 180}\n",
    "```"
   ]
  },
  {
   "cell_type": "markdown",
   "id": "1e42ac96",
   "metadata": {},
   "source": []
  }
 ],
 "metadata": {
  "kernelspec": {
   "display_name": ".venv (3.13.3)",
   "language": "python",
   "name": "python3"
  },
  "language_info": {
   "codemirror_mode": {
    "name": "ipython",
    "version": 3
   },
   "file_extension": ".py",
   "mimetype": "text/x-python",
   "name": "python",
   "nbconvert_exporter": "python",
   "pygments_lexer": "ipython3",
   "version": "3.13.3"
  }
 },
 "nbformat": 4,
 "nbformat_minor": 5
}
