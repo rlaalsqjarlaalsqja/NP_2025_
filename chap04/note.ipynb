{
 "cells": [
  {
   "cell_type": "markdown",
   "id": "c316e691",
   "metadata": {},
   "source": [
    "## 4장 파이썬 자료 구조\n",
    "\n",
    "날짜 : 2025.9.9\n",
    "\n"
   ]
  },
  {
   "cell_type": "markdown",
   "id": "72d9fec0",
   "metadata": {},
   "source": [
    "# 자료 구조란?\n",
    "\n",
    "자료를 표현하고 처리하기 위해 사용되는 구조\n",
    "\n",
    "자료를 효율적으로 처리하고 저장하는데 사용\n",
    "\n",
    "파이썬에서 사용되는 기본 자료 구조는 문자열, 리스트, 튜플, 딕셔너리, 집합이 있음"
   ]
  },
  {
   "cell_type": "markdown",
   "id": "29d1131b",
   "metadata": {},
   "source": [
    "# 문자열\n",
    "\n",
    "문자열의 구조\n",
    "\n",
    "다수의 문자를 표현하기 위한 자료구조\n",
    "\n",
    "문자열이름 = \"글씨들\" (또는 '')\n",
    "\n",
    "\" 또는 ' 로 둘러쌈\n",
    "\n",
    "'''(\"\"\") 부터 '''(\"\"\")까지 문자: 문자열이 두 줄 이상일 때 주로 사용\n"
   ]
  },
  {
   "cell_type": "markdown",
   "id": "4cd744a2",
   "metadata": {},
   "source": [
    "문자열 요소(문자)를 개별적으로 사용하기-index"
   ]
  }
 ],
 "metadata": {
  "language_info": {
   "name": "python"
  }
 },
 "nbformat": 4,
 "nbformat_minor": 5
}
