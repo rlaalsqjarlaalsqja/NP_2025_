{
 "cells": [
  {
   "cell_type": "markdown",
   "id": "18751c1d",
   "metadata": {},
   "source": [
    "## 튜플 연습문제-1\n",
    "\n",
    "학번 : 202110156\n",
    "\n",
    "이름 : 김민범"
   ]
  },
  {
   "cell_type": "markdown",
   "id": "d1e26b77",
   "metadata": {},
   "source": [
    "다음딕셔너리에대해물음에답하라.\n",
    "\n",
    " days = {'January':31, 'February':28, 'March':31, 'April':30,\n",
    "\n",
    " 'May':31, 'June':30, 'July':31, 'August':31,\n",
    "\n",
    " 'September':30, 'October':31, 'November':30, 'December':31}\n",
    "\n",
    "사용자가월을입력하면해당월에일수를출력하라\n",
    "\n",
    "알파벳순서로모든월을출력하라\n",
    "\n",
    "일수가31인월을모두출력하라\n",
    "\n",
    "월의일수를기준으로오름차순으로(key-value) 쌍을 출력하라\n",
    "\n",
    "사용자가월을3자리만입력하면월의일수를출력하라.(Jan, Feb 등)"
   ]
  },
  {
   "cell_type": "code",
   "execution_count": 1,
   "id": "8d749aa5",
   "metadata": {},
   "outputs": [
    {
     "name": "stdout",
     "output_type": "stream",
     "text": [
      "March는 31일까지 있습니다.\n",
      "\n",
      "알파벳 순서의 월들:\n",
      "April\n",
      "August\n",
      "December\n",
      "February\n",
      "January\n",
      "July\n",
      "June\n",
      "March\n",
      "May\n",
      "November\n",
      "October\n",
      "September\n",
      "\n",
      "일수가 31일인 월들:\n",
      "January\n",
      "March\n",
      "May\n",
      "July\n",
      "August\n",
      "October\n",
      "December\n",
      "\n",
      "일수를 기준으로 오름차순 정렬:\n",
      "February : 28\n",
      "April : 30\n",
      "June : 30\n",
      "September : 30\n",
      "November : 30\n",
      "January : 31\n",
      "March : 31\n",
      "May : 31\n",
      "July : 31\n",
      "August : 31\n",
      "October : 31\n",
      "December : 31\n",
      "January는 31일까지 있습니다.\n"
     ]
    }
   ],
   "source": [
    "# 초기 딕셔너리 \n",
    "\n",
    "days = {\n",
    "    'January': 31, 'February': 28, 'March': 31, 'April': 30,\n",
    "    'May': 31, 'June': 30, 'July': 31, 'August': 31,\n",
    "    'September': 30, 'October': 31, 'November': 30, 'December': 31\n",
    "}\n",
    "\n",
    "month = input(\"월을 입력하세요 (예: March): \")\n",
    "if month in days:\n",
    "    print(f\"{month}는 {days[month]}일까지 있습니다.\")\n",
    "else:\n",
    "    print(\"해당 월은 존재하지 않습니다.\")\n",
    "    \n",
    "# sorted()는 키값 기준으로 정렬\n",
    "print(\"\\n알파벳 순서의 월들:\")\n",
    "for m in sorted(days.keys()):\n",
    "    print(m)\n",
    "\n",
    "# items()로 (key, value) 쌍을 받아서 value 검사\n",
    "print(\"\\n일수가 31일인 월들:\")\n",
    "for m, d in days.items():\n",
    "    if d == 31:\n",
    "        print(m)\n",
    "        \n",
    "# sorted(dict.items(), key=lambda x: x[1]) → value 기준 정렬\n",
    "print(\"\\n일수를 기준으로 오름차순 정렬:\")\n",
    "for m, d in sorted(days.items(), key=lambda x: x[1]):\n",
    "    print(m, \":\", d)\n",
    "    \n",
    "    \n",
    "# 앞 3글자를 비교해서 매칭\n",
    "abbr = input(\"\\n월의 앞 3자리 입력 (예: Jan, Feb, Mar): \")\n",
    "\n",
    "found = False\n",
    "for m in days:\n",
    "    if m[:3].lower() == abbr.lower():   # 대소문자 구분 없이 비교\n",
    "        print(f\"{m}는 {days[m]}일까지 있습니다.\")\n",
    "        found = True\n",
    "        break\n",
    "\n",
    "if not found:\n",
    "    print(\"해당 약어의 월은 존재하지 않습니다.\")"
   ]
  }
 ],
 "metadata": {
  "kernelspec": {
   "display_name": ".venv (3.13.3)",
   "language": "python",
   "name": "python3"
  },
  "language_info": {
   "codemirror_mode": {
    "name": "ipython",
    "version": 3
   },
   "file_extension": ".py",
   "mimetype": "text/x-python",
   "name": "python",
   "nbconvert_exporter": "python",
   "pygments_lexer": "ipython3",
   "version": "3.13.3"
  }
 },
 "nbformat": 4,
 "nbformat_minor": 5
}
