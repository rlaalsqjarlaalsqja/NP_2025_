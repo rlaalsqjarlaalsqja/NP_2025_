{
 "cells": [
  {
   "cell_type": "markdown",
   "id": "76a7c739",
   "metadata": {},
   "source": [
    "## 4장 연습문제 1\n",
    "\n",
    "학번 : 202110156\n",
    "\n",
    "이름 : 김민범"
   ]
  },
  {
   "cell_type": "markdown",
   "id": "2d7ab53e",
   "metadata": {},
   "source": [
    "1. 3명 이상 친구를 이름 리스트를 작성하고 다음 내용을 프로그램하시오\n",
    "\n",
    "insert()로 맨 앞에 새로운 친구 추가\n",
    "\n",
    "insert()로 3번째 위치에 새로운 친구 추가\n",
    "\n",
    "append()로 마지막에 친구 추가"
   ]
  },
  {
   "cell_type": "code",
   "execution_count": 3,
   "id": "2a3ab0e6",
   "metadata": {},
   "outputs": [
    {
     "name": "stdout",
     "output_type": "stream",
     "text": [
      "초기 친구 리스트 :  ['민수', '지영', '철수']\n",
      "친구 추가 후 리스트 :  ['영희', '민수', '지영', '철수']\n",
      "친구 추가 후 리스트 :  ['영희', '민수', '수지', '지영', '철수']\n",
      "친구 추가 후 리스트 :  ['영희', '민수', '수지', '지영', '철수', '현수']\n"
     ]
    }
   ],
   "source": [
    "# 친구 리스트 만들기\n",
    "\n",
    "friends= [\"민수\",\"지영\",\"철수\"] #처음 기본 리스트\n",
    "\n",
    "print(\"초기 친구 리스트 : \", friends)\n",
    "\n",
    "#친구 추가하기\n",
    "friends.insert(0,\"영희\") #0번 인덱스에 영희 추가(맨 앞)\n",
    "print(\"친구 추가 후 리스트 : \", friends)\n",
    "friends.insert(2,\"수지\") #3번 인덱스에 수지 추가(3번째)\n",
    "print(\"친구 추가 후 리스트 : \", friends)\n",
    "friends.append(\"현수\") #맨 뒤에 현수 추가\n",
    "print(\"친구 추가 후 리스트 : \", friends)"
   ]
  },
  {
   "cell_type": "markdown",
   "id": "3d0c8f64",
   "metadata": {},
   "source": [
    "2. 리스트 [1,2,3]에 대해 다음과 같은 처리를 하라.\n",
    "\n",
    "두 번째 요소를 17로 수정\n",
    "\n",
    "리스트에 4,5,6을 추가\n",
    "\n",
    "첫 번째 요소 제거\n",
    "\n",
    "리스트를 요소 순서대로 배열하기\n",
    "\n",
    "인덱스 3에 25넣기"
   ]
  },
  {
   "cell_type": "code",
   "execution_count": 6,
   "id": "2af42dd7",
   "metadata": {},
   "outputs": [
    {
     "name": "stdout",
     "output_type": "stream",
     "text": [
      "초기 리스트 :  [1, 17, 3]\n",
      "두 번째 요소 변경 후 리스트 :  [1, 17, 3]\n",
      "리스트 확장 후 리스트 :  [1, 17, 3, 4, 5, 6]\n",
      "첫 번째 요소 삭제 후 리스트 :  [17, 3, 4, 5, 6]\n",
      "오름차순 후 리스트 :  [3, 4, 5, 6, 17]\n",
      "네 번째 요소 변경 후 리스트 :  [1, 17, 3]\n"
     ]
    }
   ],
   "source": [
    "#초기 리스트\n",
    "\n",
    "nums = [1,2,3]\n",
    "print(\"초기 리스트 : \", num)\n",
    "\n",
    "nums[1] = 17\n",
    "print(\"두 번째 요소 변경 후 리스트 : \", num)\n",
    "\n",
    "nums.extend([4,5,6])\n",
    "print(\"리스트 확장 후 리스트 : \", nums)\n",
    "\n",
    "del nums[0]\n",
    "print(\"첫 번째 요소 삭제 후 리스트 : \", nums)\n",
    "\n",
    "nums.sort()\n",
    "print(\"오름차순 후 리스트 : \", nums)\n",
    "\n",
    "nums[3] = 25\n",
    "print(\"네 번째 요소 변경 후 리스트 : \", num)"
   ]
  }
 ],
 "metadata": {
  "kernelspec": {
   "display_name": ".venv (3.13.3)",
   "language": "python",
   "name": "python3"
  },
  "language_info": {
   "codemirror_mode": {
    "name": "ipython",
    "version": 3
   },
   "file_extension": ".py",
   "mimetype": "text/x-python",
   "name": "python",
   "nbconvert_exporter": "python",
   "pygments_lexer": "ipython3",
   "version": "3.13.3"
  }
 },
 "nbformat": 4,
 "nbformat_minor": 5
}
